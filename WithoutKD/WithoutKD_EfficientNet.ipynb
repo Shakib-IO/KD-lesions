{
  "nbformat": 4,
  "nbformat_minor": 0,
  "metadata": {
    "colab": {
      "name": "WithoutKD_EfficientNet.ipynb",
      "provenance": [],
      "collapsed_sections": []
    },
    "kernelspec": {
      "name": "python3",
      "display_name": "Python 3"
    },
    "language_info": {
      "name": "python"
    },
    "accelerator": "GPU"
  },
  "cells": [
    {
      "cell_type": "code",
      "metadata": {
        "colab": {
          "base_uri": "https://localhost:8080/"
        },
        "id": "D0KSh4OiiaOr",
        "outputId": "087e6d61-cf40-41b1-84e9-5d657de3b103"
      },
      "source": [
        "from google.colab import drive\n",
        "drive.mount('/content/drive')"
      ],
      "execution_count": 1,
      "outputs": [
        {
          "output_type": "stream",
          "name": "stdout",
          "text": [
            "Mounted at /content/drive\n"
          ]
        }
      ]
    },
    {
      "cell_type": "code",
      "metadata": {
        "id": "5jAXfUfJi-wI"
      },
      "source": [
        "import os\n",
        "import cv2\n",
        "from PIL import Image\n",
        "import numpy as np\n",
        "import scipy\n",
        "import pandas as pd\n",
        "import matplotlib.pyplot as plt\n",
        "plt.style.use('seaborn')\n",
        "\n",
        "from sklearn import metrics\n",
        "from sklearn.model_selection import train_test_split\n",
        "from sklearn.metrics import classification_report\n",
        "from sklearn.metrics import auc, roc_curve\n",
        "from tqdm import tqdm\n",
        "\n",
        "import time"
      ],
      "execution_count": 2,
      "outputs": []
    },
    {
      "cell_type": "code",
      "metadata": {
        "id": "GHuz_lnOjBE-"
      },
      "source": [
        "# Keras & Tensorflow\n",
        "import keras\n",
        "import tensorflow as tf\n",
        "from keras import layers\n",
        "from keras.models import Model\n",
        "from keras.layers import Lambda, concatenate\n",
        "from tensorflow.keras.utils import to_categorical\n",
        "from keras.preprocessing.image import ImageDataGenerator\n",
        "from keras.models import Sequential\n",
        "from keras.layers import GlobalAveragePooling2D , Conv2D , MaxPooling2D\n",
        "from keras.layers import  Dropout , BatchNormalization , Dense\n",
        "from tensorflow.keras.optimizers import Adam\n",
        "from tensorflow.keras.applications import ResNet50\n",
        "from keras.callbacks import Callback , ReduceLROnPlateau , ModelCheckpoint\n",
        "from sklearn.metrics import cohen_kappa_score, accuracy_score\n",
        "from keras.losses import categorical_crossentropy as logloss\n",
        "from keras.metrics import categorical_accuracy"
      ],
      "execution_count": 3,
      "outputs": []
    },
    {
      "cell_type": "code",
      "metadata": {
        "colab": {
          "base_uri": "https://localhost:8080/"
        },
        "id": "PIHZwKZOjE-j",
        "outputId": "c592114d-eee7-4c9a-f2fd-1edf50e831d2"
      },
      "source": [
        "benign_train = np.load('/content/drive/MyDrive/CSE499/numpy/benign_train.npy')\n",
        "malign_train = np.load('/content/drive/MyDrive/CSE499/numpy/malign_train.npy')\n",
        "benign_test = np.load('/content/drive/MyDrive/CSE499/numpy/benign_test.npy')\n",
        "malign_test = np.load('/content/drive/MyDrive/CSE499/numpy/malign_test.npy')\n",
        "print('Done Loaded :)')"
      ],
      "execution_count": 4,
      "outputs": [
        {
          "output_type": "stream",
          "name": "stdout",
          "text": [
            "Done Loaded :)\n"
          ]
        }
      ]
    },
    {
      "cell_type": "code",
      "metadata": {
        "colab": {
          "base_uri": "https://localhost:8080/"
        },
        "id": "IRYh41eajHan",
        "outputId": "bc456882-a7e5-47b0-e74d-1ff825aa2301"
      },
      "source": [
        "#Shape of our dataset\n",
        "print(f'Benign Train:',benign_train.shape)\n",
        "print(f'Malignant Train',malign_train.shape)\n",
        "print(f'Benign Test:',benign_test.shape)\n",
        "print(f'Malignant Test',malign_test.shape)"
      ],
      "execution_count": 5,
      "outputs": [
        {
          "output_type": "stream",
          "name": "stdout",
          "text": [
            "Benign Train: (3500, 224, 224, 3)\n",
            "Malignant Train (3496, 224, 224, 3)\n",
            "Benign Test: (1500, 224, 224, 3)\n",
            "Malignant Test (1500, 224, 224, 3)\n"
          ]
        }
      ]
    },
    {
      "cell_type": "code",
      "metadata": {
        "id": "vnwR41z4jUGw"
      },
      "source": [
        "benign_train_label = np.zeros(len(benign_train),dtype=float)\n",
        "malign_train_label = np.ones(len(malign_train),dtype=float)\n",
        "benign_test_label = np.zeros(len(benign_test),dtype=float)\n",
        "malign_test_label = np.ones(len(malign_test),dtype=float) \n",
        "\n",
        "X_train = np.concatenate((benign_train, malign_train), axis = 0)\n",
        "Y_train = np.concatenate((benign_train_label, malign_train_label), axis = 0)\n",
        "X_test = np.concatenate((benign_test, malign_test), axis = 0)\n",
        "Y_test = np.concatenate((benign_test_label, malign_test_label), axis = 0)\n",
        "\n",
        "s = np.arange(X_train.shape[0])\n",
        "np.random.shuffle(s)\n",
        "X_train = X_train[s]\n",
        "Y_train = Y_train[s]\n",
        "\n",
        "s = np.arange(X_test.shape[0])\n",
        "np.random.shuffle(s)\n",
        "X_test = X_test[s]\n",
        "Y_test = Y_test[s]\n",
        "\n",
        "Y_train = to_categorical(Y_train, num_classes= 2)\n",
        "Y_test = to_categorical(Y_test, num_classes= 2)"
      ],
      "execution_count": 6,
      "outputs": []
    },
    {
      "cell_type": "code",
      "metadata": {
        "colab": {
          "base_uri": "https://localhost:8080/"
        },
        "id": "rUA5o6PBjYO3",
        "outputId": "7636b253-838f-4d4a-e423-e6eba288353b"
      },
      "source": [
        "print(f'X train shape:',X_train.shape)\n",
        "print(f'X test shape:',X_test.shape)\n",
        "print(f'Y train shape:',Y_train.shape)\n",
        "print(f'Y test shape:',Y_test.shape)"
      ],
      "execution_count": 7,
      "outputs": [
        {
          "output_type": "stream",
          "name": "stdout",
          "text": [
            "X train shape: (6996, 224, 224, 3)\n",
            "X test shape: (3000, 224, 224, 3)\n",
            "Y train shape: (6996, 2)\n",
            "Y test shape: (3000, 2)\n"
          ]
        }
      ]
    },
    {
      "cell_type": "code",
      "metadata": {
        "id": "HMxMyJ2gjY9Q"
      },
      "source": [
        "x_train, x_val, y_train, y_val = train_test_split(X_train, Y_train, test_size=0.2, random_state=10)"
      ],
      "execution_count": 8,
      "outputs": []
    },
    {
      "cell_type": "code",
      "metadata": {
        "colab": {
          "base_uri": "https://localhost:8080/"
        },
        "id": "OZN9G-R6jbbt",
        "outputId": "12234ffc-979a-4988-d0ee-9849fa396c7f"
      },
      "source": [
        "print(f'x train shape:',x_train.shape)\n",
        "print(f'x val shape:',x_val.shape)\n",
        "print(f'y train shape:',y_train.shape)\n",
        "print(f'y val shape:',y_val.shape)"
      ],
      "execution_count": 9,
      "outputs": [
        {
          "output_type": "stream",
          "name": "stdout",
          "text": [
            "x train shape: (5596, 224, 224, 3)\n",
            "x val shape: (1400, 224, 224, 3)\n",
            "y train shape: (5596, 2)\n",
            "y val shape: (1400, 2)\n"
          ]
        }
      ]
    },
    {
      "cell_type": "code",
      "metadata": {
        "colab": {
          "base_uri": "https://localhost:8080/"
        },
        "id": "3ZMIpFWSjdMk",
        "outputId": "e1f5f592-4fdb-4c52-e3b7-65e802f35e35"
      },
      "source": [
        "from tensorflow.keras.applications import EfficientNetB0\n",
        "\n",
        "def eff_model(backbone , lr = 1e-4):\n",
        "  effmodel = Sequential()\n",
        "  effmodel.add(backbone)\n",
        "  effmodel.add(layers.GlobalAveragePooling2D())\n",
        "  effmodel.add(layers.Dropout(0.5))\n",
        "  effmodel.add(layers.BatchNormalization())\n",
        "  effmodel.add(layers.Dense(2 , activation='softmax'))\n",
        "  \n",
        "  effmodel.compile(\n",
        "        loss='categorical_crossentropy',\n",
        "        optimizer=Adam(learning_rate=lr),\n",
        "        metrics=['accuracy']\n",
        "    )\n",
        "    \n",
        "  return effmodel\n",
        "\n",
        "\n",
        "EfficientNet = EfficientNetB0(\n",
        "    weights = 'imagenet',\n",
        "    include_top = False,\n",
        "    input_shape =(224 , 224 , 3)\n",
        ")\n",
        "#call the model \n",
        "effmodel = eff_model(EfficientNet , lr = 1e-4)\n",
        "effmodel.build((None, 224, 224, 3))\n",
        "effmodel.summary()"
      ],
      "execution_count": 10,
      "outputs": [
        {
          "output_type": "stream",
          "name": "stdout",
          "text": [
            "Downloading data from https://storage.googleapis.com/keras-applications/efficientnetb0_notop.h5\n",
            "16711680/16705208 [==============================] - 0s 0us/step\n",
            "16719872/16705208 [==============================] - 0s 0us/step\n",
            "Model: \"sequential\"\n",
            "_________________________________________________________________\n",
            " Layer (type)                Output Shape              Param #   \n",
            "=================================================================\n",
            " efficientnetb0 (Functional)  (None, 7, 7, 1280)       4049571   \n",
            "                                                                 \n",
            " global_average_pooling2d (G  (None, 1280)             0         \n",
            " lobalAveragePooling2D)                                          \n",
            "                                                                 \n",
            " dropout (Dropout)           (None, 1280)              0         \n",
            "                                                                 \n",
            " batch_normalization (BatchN  (None, 1280)             5120      \n",
            " ormalization)                                                   \n",
            "                                                                 \n",
            " dense (Dense)               (None, 2)                 2562      \n",
            "                                                                 \n",
            "=================================================================\n",
            "Total params: 4,057,253\n",
            "Trainable params: 4,012,670\n",
            "Non-trainable params: 44,583\n",
            "_________________________________________________________________\n"
          ]
        }
      ]
    },
    {
      "cell_type": "code",
      "metadata": {
        "colab": {
          "base_uri": "https://localhost:8080/"
        },
        "id": "S3-71We5jgiJ",
        "outputId": "7b7901e4-8c0a-4a13-d49e-13e79b686dce"
      },
      "source": [
        "# Training the teacher model with Resnet50\n",
        "# Train the teacher model as usual\n",
        "epochs = 20\n",
        "batch_size = 64\n",
        "teacher_his = effmodel.fit(x_train, y_train,\n",
        "          batch_size=batch_size,\n",
        "          epochs=epochs,\n",
        "          verbose=1,\n",
        "          validation_data=(x_val, y_val))"
      ],
      "execution_count": 11,
      "outputs": [
        {
          "output_type": "stream",
          "name": "stdout",
          "text": [
            "Epoch 1/20\n",
            "88/88 [==============================] - 119s 1s/step - loss: 0.2794 - accuracy: 0.8964 - val_loss: 0.3621 - val_accuracy: 0.7829\n",
            "Epoch 2/20\n",
            "88/88 [==============================] - 94s 1s/step - loss: 0.1327 - accuracy: 0.9505 - val_loss: 0.2096 - val_accuracy: 0.9036\n",
            "Epoch 3/20\n",
            "88/88 [==============================] - 94s 1s/step - loss: 0.0840 - accuracy: 0.9668 - val_loss: 0.1561 - val_accuracy: 0.9350\n",
            "Epoch 4/20\n",
            "88/88 [==============================] - 95s 1s/step - loss: 0.0593 - accuracy: 0.9771 - val_loss: 0.1276 - val_accuracy: 0.9507\n",
            "Epoch 5/20\n",
            "88/88 [==============================] - 95s 1s/step - loss: 0.0419 - accuracy: 0.9855 - val_loss: 0.1213 - val_accuracy: 0.9593\n",
            "Epoch 6/20\n",
            "88/88 [==============================] - 94s 1s/step - loss: 0.0334 - accuracy: 0.9886 - val_loss: 0.1231 - val_accuracy: 0.9600\n",
            "Epoch 7/20\n",
            "88/88 [==============================] - 94s 1s/step - loss: 0.0259 - accuracy: 0.9916 - val_loss: 0.1320 - val_accuracy: 0.9607\n",
            "Epoch 8/20\n",
            "88/88 [==============================] - 95s 1s/step - loss: 0.0183 - accuracy: 0.9943 - val_loss: 0.1455 - val_accuracy: 0.9579\n",
            "Epoch 9/20\n",
            "88/88 [==============================] - 95s 1s/step - loss: 0.0131 - accuracy: 0.9961 - val_loss: 0.1454 - val_accuracy: 0.9600\n",
            "Epoch 10/20\n",
            "88/88 [==============================] - 94s 1s/step - loss: 0.0104 - accuracy: 0.9964 - val_loss: 0.1521 - val_accuracy: 0.9579\n",
            "Epoch 11/20\n",
            "88/88 [==============================] - 94s 1s/step - loss: 0.0112 - accuracy: 0.9970 - val_loss: 0.1354 - val_accuracy: 0.9600\n",
            "Epoch 12/20\n",
            "88/88 [==============================] - 95s 1s/step - loss: 0.0063 - accuracy: 0.9989 - val_loss: 0.1578 - val_accuracy: 0.9614\n",
            "Epoch 13/20\n",
            "88/88 [==============================] - 94s 1s/step - loss: 0.0090 - accuracy: 0.9973 - val_loss: 0.1652 - val_accuracy: 0.9600\n",
            "Epoch 14/20\n",
            "88/88 [==============================] - 94s 1s/step - loss: 0.0076 - accuracy: 0.9982 - val_loss: 0.1594 - val_accuracy: 0.9593\n",
            "Epoch 15/20\n",
            "88/88 [==============================] - 94s 1s/step - loss: 0.0035 - accuracy: 0.9995 - val_loss: 0.1583 - val_accuracy: 0.9614\n",
            "Epoch 16/20\n",
            "88/88 [==============================] - 95s 1s/step - loss: 0.0028 - accuracy: 0.9993 - val_loss: 0.1734 - val_accuracy: 0.9593\n",
            "Epoch 17/20\n",
            "88/88 [==============================] - 96s 1s/step - loss: 0.0053 - accuracy: 0.9987 - val_loss: 0.1711 - val_accuracy: 0.9571\n",
            "Epoch 18/20\n",
            "88/88 [==============================] - 95s 1s/step - loss: 0.0070 - accuracy: 0.9986 - val_loss: 0.1572 - val_accuracy: 0.9614\n",
            "Epoch 19/20\n",
            "88/88 [==============================] - 95s 1s/step - loss: 0.0060 - accuracy: 0.9979 - val_loss: 0.1932 - val_accuracy: 0.9636\n",
            "Epoch 20/20\n",
            "88/88 [==============================] - 96s 1s/step - loss: 0.0037 - accuracy: 0.9989 - val_loss: 0.1740 - val_accuracy: 0.9650\n"
          ]
        }
      ]
    },
    {
      "cell_type": "code",
      "metadata": {
        "colab": {
          "base_uri": "https://localhost:8080/",
          "height": 376
        },
        "id": "yWno12oij4UJ",
        "outputId": "fe762996-5baa-4a83-f9b2-412818035c71"
      },
      "source": [
        "#https://machinelearningmastery.com/display-deep-learning-model-training-history-in-keras/\n",
        "# summarize history for accuracy\n",
        "plt.plot(teacher_his.history['accuracy'],)\n",
        "plt.plot(teacher_his.history['val_accuracy'])\n",
        "plt.title('model accuracy')\n",
        "plt.ylabel('accuracy')\n",
        "plt.xlabel('epoch')\n",
        "plt.legend(['train', 'val'], loc='lower right')\n",
        "plt.show()"
      ],
      "execution_count": 12,
      "outputs": [
        {
          "output_type": "display_data",
          "data": {
            "image/png": "[encoded data removed]",
            "text/plain": [
              "<Figure size 576x396 with 1 Axes>"
            ]
          },
          "metadata": {}
        }
      ]
    },
    {
      "cell_type": "code",
      "metadata": {
        "colab": {
          "base_uri": "https://localhost:8080/",
          "height": 376
        },
        "id": "LyX_jfEWj7O4",
        "outputId": "e63ade0d-4752-4c22-8640-16838f51f7a9"
      },
      "source": [
        "#https://machinelearningmastery.com/display-deep-learning-model-training-history-in-keras/\n",
        "# summarize history for accuracy\n",
        "plt.plot(teacher_his.history['loss'])\n",
        "plt.plot(teacher_his.history['val_loss'])\n",
        "plt.title('model Loss')\n",
        "plt.ylabel('Loss')\n",
        "plt.xlabel('epoch')\n",
        "plt.legend(['train', 'val'], loc='lower left')\n",
        "plt.show()"
      ],
      "execution_count": 13,
      "outputs": [
        {
          "output_type": "display_data",
          "data": {
            "image/png": "[encoded data removed]",
            "text/plain": [
              "<Figure size 576x396 with 1 Axes>"
            ]
          },
          "metadata": {}
        }
      ]
    },
    {
      "cell_type": "code",
      "metadata": {
        "colab": {
          "base_uri": "https://localhost:8080/"
        },
        "id": "bsi6nu68j_LQ",
        "outputId": "b685ab3e-bea4-45cc-d6d1-939bfa5cd3ee"
      },
      "source": [
        "Y_val_pred = effmodel.predict(x_val)\n",
        "print(f'The Teacher model Accuracy on the Validation Set:',accuracy_score(np.argmax(y_val, axis=1), np.argmax(Y_val_pred, axis=1)))"
      ],
      "execution_count": 14,
      "outputs": [
        {
          "output_type": "stream",
          "name": "stdout",
          "text": [
            "The Teacher model Accuracy on the Validation Set: 0.965\n"
          ]
        }
      ]
    },
    {
      "cell_type": "code",
      "metadata": {
        "colab": {
          "base_uri": "https://localhost:8080/"
        },
        "id": "9LgkRHiJkCEz",
        "outputId": "8ad0081b-15b4-4923-c6d7-de3dba2f26e0"
      },
      "source": [
        "#Now let's check my Y_test values\n",
        "print(f'My Y_test values are:\\n' ,Y_test)"
      ],
      "execution_count": 15,
      "outputs": [
        {
          "output_type": "stream",
          "name": "stdout",
          "text": [
            "My Y_test values are:\n",
            " [[1. 0.]\n",
            " [1. 0.]\n",
            " [0. 1.]\n",
            " ...\n",
            " [1. 0.]\n",
            " [1. 0.]\n",
            " [1. 0.]]\n"
          ]
        }
      ]
    },
    {
      "cell_type": "code",
      "metadata": {
        "colab": {
          "base_uri": "https://localhost:8080/"
        },
        "id": "V4zzN9K-kFOg",
        "outputId": "570c73bb-af0c-475a-aafe-cd713b80c80a"
      },
      "source": [
        "#Now let's check my predcited values from X_test dataset\t\n",
        "# And calculate the y_pred with time\n",
        "import timeit\n",
        "\n",
        "start = timeit.default_timer()\n",
        "#Your statements here\n",
        "y_pred = effmodel.predict(X_test)\n",
        "print(f'My predicted Y_test values are:\\n' ,y_pred)\n",
        "\n",
        "stop = timeit.default_timer()\n",
        "print('\\nTime: ',stop - start,'sec')"
      ],
      "execution_count": 17,
      "outputs": [
        {
          "output_type": "stream",
          "name": "stdout",
          "text": [
            "My predicted Y_test values are:\n",
            " [[9.9999416e-01 5.7927532e-06]\n",
            " [1.0000000e+00 1.0926226e-08]\n",
            " [8.8282454e-10 1.0000000e+00]\n",
            " ...\n",
            " [1.0000000e+00 3.8120131e-08]\n",
            " [9.9999988e-01 1.7801651e-07]\n",
            " [1.0000000e+00 1.5832557e-09]]\n",
            "\n",
            "Time:  10.757064066999646 sec\n"
          ]
        }
      ]
    },
    {
      "cell_type": "code",
      "metadata": {
        "colab": {
          "base_uri": "https://localhost:8080/"
        },
        "id": "IRe2RRnQkGOE",
        "outputId": "abb7a017-8be6-475e-c51e-b4cf33343b4a"
      },
      "source": [
        "#Now let's check the accuracy between the original & predicted (Y_test , y_pred)\n",
        "print(f'My accuracy:',accuracy_score(np.argmax(Y_test, axis=1), np.argmax(y_pred, axis=1)))"
      ],
      "execution_count": 18,
      "outputs": [
        {
          "output_type": "stream",
          "name": "stdout",
          "text": [
            "My accuracy: 0.9986666666666667\n"
          ]
        }
      ]
    },
    {
      "cell_type": "code",
      "metadata": {
        "colab": {
          "base_uri": "https://localhost:8080/"
        },
        "id": "SnTgMuoskIah",
        "outputId": "d4f3420d-e7eb-49b8-a205-5384436cad62"
      },
      "source": [
        "# Print the classification report\n",
        "print(classification_report( np.argmax(Y_test, axis=1), np.argmax(y_pred, axis=1)))"
      ],
      "execution_count": 19,
      "outputs": [
        {
          "output_type": "stream",
          "name": "stdout",
          "text": [
            "              precision    recall  f1-score   support\n",
            "\n",
            "           0       1.00      1.00      1.00      1500\n",
            "           1       1.00      1.00      1.00      1500\n",
            "\n",
            "    accuracy                           1.00      3000\n",
            "   macro avg       1.00      1.00      1.00      3000\n",
            "weighted avg       1.00      1.00      1.00      3000\n",
            "\n"
          ]
        }
      ]
    }
  ]
}