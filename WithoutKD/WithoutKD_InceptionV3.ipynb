{
  "nbformat": 4,
  "nbformat_minor": 0,
  "metadata": {
    "colab": {
      "name": "WithoutKD_InceptionV3.ipynb",
      "provenance": [],
      "collapsed_sections": []
    },
    "kernelspec": {
      "name": "python3",
      "display_name": "Python 3"
    },
    "language_info": {
      "name": "python"
    },
    "accelerator": "GPU"
  },
  "cells": [
    {
      "cell_type": "code",
      "metadata": {
        "colab": {
          "base_uri": "https://localhost:8080/"
        },
        "id": "14Isk6TSpDxz",
        "outputId": "5568c8a3-5a31-4503-92eb-8c1a7e28ba39"
      },
      "source": [
        "from google.colab import drive\n",
        "drive.mount('/content/drive')"
      ],
      "execution_count": 1,
      "outputs": [
        {
          "output_type": "stream",
          "name": "stdout",
          "text": [
            "Mounted at /content/drive\n"
          ]
        }
      ]
    },
    {
      "cell_type": "code",
      "metadata": {
        "id": "GynY_VyvpreL"
      },
      "source": [
        "import os\n",
        "import cv2\n",
        "from PIL import Image\n",
        "import numpy as np\n",
        "import scipy\n",
        "import pandas as pd\n",
        "import matplotlib.pyplot as plt\n",
        "plt.style.use('seaborn')\n",
        "\n",
        "from sklearn import metrics\n",
        "from sklearn.model_selection import train_test_split\n",
        "from sklearn.metrics import classification_report\n",
        "from sklearn.metrics import auc, roc_curve\n",
        "from tqdm import tqdm\n",
        "\n",
        "import time"
      ],
      "execution_count": 2,
      "outputs": []
    },
    {
      "cell_type": "code",
      "metadata": {
        "id": "4wcJK3gwptPu"
      },
      "source": [
        "# Keras & Tensorflow\n",
        "import keras\n",
        "import tensorflow as tf\n",
        "from keras import layers\n",
        "from keras.models import Model\n",
        "from keras.layers import Lambda, concatenate\n",
        "from tensorflow.keras.utils import to_categorical\n",
        "from keras.preprocessing.image import ImageDataGenerator\n",
        "from keras.models import Sequential\n",
        "from keras.layers import GlobalAveragePooling2D , Conv2D , MaxPooling2D\n",
        "from keras.layers import  Dropout , BatchNormalization , Dense\n",
        "from tensorflow.keras.optimizers import Adam\n",
        "from tensorflow.keras.applications import ResNet50\n",
        "from keras.callbacks import Callback , ReduceLROnPlateau , ModelCheckpoint\n",
        "from sklearn.metrics import cohen_kappa_score, accuracy_score\n",
        "from keras.losses import categorical_crossentropy as logloss\n",
        "from keras.metrics import categorical_accuracy"
      ],
      "execution_count": 3,
      "outputs": []
    },
    {
      "cell_type": "code",
      "metadata": {
        "colab": {
          "base_uri": "https://localhost:8080/"
        },
        "id": "wM3jKNu3pvAi",
        "outputId": "5ad814e4-cbc6-4e1c-a2dd-ba93a45756cb"
      },
      "source": [
        "benign_train = np.load('/content/drive/MyDrive/CSE499/numpy/benign_train.npy')\n",
        "malign_train = np.load('/content/drive/MyDrive/CSE499/numpy/malign_train.npy')\n",
        "benign_test = np.load('/content/drive/MyDrive/CSE499/numpy/benign_test.npy')\n",
        "malign_test = np.load('/content/drive/MyDrive/CSE499/numpy/malign_test.npy')\n",
        "print('Done Loaded :)')"
      ],
      "execution_count": 4,
      "outputs": [
        {
          "output_type": "stream",
          "name": "stdout",
          "text": [
            "Done Loaded :)\n"
          ]
        }
      ]
    },
    {
      "cell_type": "code",
      "metadata": {
        "colab": {
          "base_uri": "https://localhost:8080/"
        },
        "id": "ivrmydcqpw2R",
        "outputId": "069feda1-694c-497d-ffa8-f98f5871f68f"
      },
      "source": [
        "#Shape of our dataset\n",
        "print(f'Benign Train:',benign_train.shape)\n",
        "print(f'Malignant Train',malign_train.shape)\n",
        "print(f'Benign Test:',benign_test.shape)\n",
        "print(f'Malignant Test',malign_test.shape)"
      ],
      "execution_count": 5,
      "outputs": [
        {
          "output_type": "stream",
          "name": "stdout",
          "text": [
            "Benign Train: (3500, 224, 224, 3)\n",
            "Malignant Train (3496, 224, 224, 3)\n",
            "Benign Test: (1500, 224, 224, 3)\n",
            "Malignant Test (1500, 224, 224, 3)\n"
          ]
        }
      ]
    },
    {
      "cell_type": "code",
      "metadata": {
        "id": "-uPxfucapyoW"
      },
      "source": [
        "benign_train_label = np.zeros(len(benign_train),dtype=float)\n",
        "malign_train_label = np.ones(len(malign_train),dtype=float)\n",
        "benign_test_label = np.zeros(len(benign_test),dtype=float)\n",
        "malign_test_label = np.ones(len(malign_test),dtype=float) \n",
        "\n",
        "X_train = np.concatenate((benign_train, malign_train), axis = 0)\n",
        "Y_train = np.concatenate((benign_train_label, malign_train_label), axis = 0)\n",
        "X_test = np.concatenate((benign_test, malign_test), axis = 0)\n",
        "Y_test = np.concatenate((benign_test_label, malign_test_label), axis = 0)\n",
        "\n",
        "s = np.arange(X_train.shape[0])\n",
        "np.random.shuffle(s)\n",
        "X_train = X_train[s]\n",
        "Y_train = Y_train[s]\n",
        "\n",
        "s = np.arange(X_test.shape[0])\n",
        "np.random.shuffle(s)\n",
        "X_test = X_test[s]\n",
        "Y_test = Y_test[s]\n",
        "\n",
        "Y_train = to_categorical(Y_train, num_classes= 2)\n",
        "Y_test = to_categorical(Y_test, num_classes= 2)"
      ],
      "execution_count": 6,
      "outputs": []
    },
    {
      "cell_type": "code",
      "metadata": {
        "colab": {
          "base_uri": "https://localhost:8080/"
        },
        "id": "BTc1Pzzrp2dl",
        "outputId": "c14cafb2-53a7-473e-dda0-032db37917b0"
      },
      "source": [
        "print(f'X train shape:',X_train.shape)\n",
        "print(f'X test shape:',X_test.shape)\n",
        "print(f'Y train shape:',Y_train.shape)\n",
        "print(f'Y test shape:',Y_test.shape)"
      ],
      "execution_count": 7,
      "outputs": [
        {
          "output_type": "stream",
          "name": "stdout",
          "text": [
            "X train shape: (6996, 224, 224, 3)\n",
            "X test shape: (3000, 224, 224, 3)\n",
            "Y train shape: (6996, 2)\n",
            "Y test shape: (3000, 2)\n"
          ]
        }
      ]
    },
    {
      "cell_type": "code",
      "metadata": {
        "id": "PQXPlwEXp4LU"
      },
      "source": [
        "x_train, x_val, y_train, y_val = train_test_split(X_train, Y_train, test_size=0.2, random_state=10)"
      ],
      "execution_count": 8,
      "outputs": []
    },
    {
      "cell_type": "code",
      "metadata": {
        "colab": {
          "base_uri": "https://localhost:8080/"
        },
        "id": "gkyC3-ejp5zL",
        "outputId": "3d12a77b-3522-4a52-abd6-2825118a131d"
      },
      "source": [
        "print(f'x train shape:',x_train.shape)\n",
        "print(f'x val shape:',x_val.shape)\n",
        "print(f'y train shape:',y_train.shape)\n",
        "print(f'y val shape:',y_val.shape)"
      ],
      "execution_count": 9,
      "outputs": [
        {
          "output_type": "stream",
          "name": "stdout",
          "text": [
            "x train shape: (5596, 224, 224, 3)\n",
            "x val shape: (1400, 224, 224, 3)\n",
            "y train shape: (5596, 2)\n",
            "y val shape: (1400, 2)\n"
          ]
        }
      ]
    },
    {
      "cell_type": "code",
      "metadata": {
        "colab": {
          "base_uri": "https://localhost:8080/"
        },
        "id": "C46ouvGNp8SS",
        "outputId": "9bd76070-d930-4d44-fbf7-1b4794b12adc"
      },
      "source": [
        "from tensorflow.keras.applications import InceptionV3\n",
        "\n",
        "def inceptionV3_model(backbone , lr = 1e-4):\n",
        "  modelInceptionV3 = Sequential()\n",
        "  modelInceptionV3.add(backbone)\n",
        "  modelInceptionV3.add(layers.GlobalAveragePooling2D())\n",
        "  modelInceptionV3.add(layers.Dropout(0.5))\n",
        "  modelInceptionV3.add(layers.BatchNormalization())\n",
        "  modelInceptionV3.add(layers.Dense(2 , activation='softmax'))\n",
        "  \n",
        "  modelInceptionV3.compile(\n",
        "        loss='categorical_crossentropy',\n",
        "        optimizer=Adam(learning_rate=lr),\n",
        "        metrics=['accuracy']\n",
        "    )\n",
        "    \n",
        "  return modelInceptionV3\n",
        "\n",
        "\n",
        "inceptionV3 = InceptionV3(\n",
        "    weights = 'imagenet',\n",
        "    include_top = False,\n",
        "    input_shape =(224 , 224 , 3)\n",
        ")\n",
        "# call the model \n",
        "modelInceptionV3 = inceptionV3_model(inceptionV3 , lr = 1e-4)\n",
        "modelInceptionV3.build((None, 224, 224, 3))\n",
        "modelInceptionV3.summary()"
      ],
      "execution_count": 10,
      "outputs": [
        {
          "output_type": "stream",
          "name": "stdout",
          "text": [
            "Downloading data from https://storage.googleapis.com/tensorflow/keras-applications/inception_v3/inception_v3_weights_tf_dim_ordering_tf_kernels_notop.h5\n",
            "87916544/87910968 [==============================] - 1s 0us/step\n",
            "87924736/87910968 [==============================] - 1s 0us/step\n",
            "Model: \"sequential\"\n",
            "_________________________________________________________________\n",
            " Layer (type)                Output Shape              Param #   \n",
            "=================================================================\n",
            " inception_v3 (Functional)   (None, 5, 5, 2048)        21802784  \n",
            "                                                                 \n",
            " global_average_pooling2d (G  (None, 2048)             0         \n",
            " lobalAveragePooling2D)                                          \n",
            "                                                                 \n",
            " dropout (Dropout)           (None, 2048)              0         \n",
            "                                                                 \n",
            " batch_normalization_94 (Bat  (None, 2048)             8192      \n",
            " chNormalization)                                                \n",
            "                                                                 \n",
            " dense (Dense)               (None, 2)                 4098      \n",
            "                                                                 \n",
            "=================================================================\n",
            "Total params: 21,815,074\n",
            "Trainable params: 21,776,546\n",
            "Non-trainable params: 38,528\n",
            "_________________________________________________________________\n"
          ]
        }
      ]
    },
    {
      "cell_type": "code",
      "metadata": {
        "colab": {
          "base_uri": "https://localhost:8080/"
        },
        "id": "2JL5BU1CqBEt",
        "outputId": "54c25b09-1157-49ce-f947-0461ad34a6af"
      },
      "source": [
        "# Train the student model with MobileNet\n",
        "epochs = 20\n",
        "batch_size = 64\n",
        "student_his_inceptionV3 = modelInceptionV3.fit(x_train, y_train,\n",
        "          batch_size=batch_size,\n",
        "          epochs=epochs,\n",
        "          verbose=1,\n",
        "          validation_data=(x_val, y_val))"
      ],
      "execution_count": 11,
      "outputs": [
        {
          "output_type": "stream",
          "name": "stdout",
          "text": [
            "Epoch 1/20\n",
            "88/88 [==============================] - 148s 1s/step - loss: 0.2429 - accuracy: 0.9089 - val_loss: 0.1966 - val_accuracy: 0.9164\n",
            "Epoch 2/20\n",
            "88/88 [==============================] - 97s 1s/step - loss: 0.0850 - accuracy: 0.9657 - val_loss: 0.1591 - val_accuracy: 0.9514\n",
            "Epoch 3/20\n",
            "88/88 [==============================] - 97s 1s/step - loss: 0.0366 - accuracy: 0.9873 - val_loss: 0.1387 - val_accuracy: 0.9536\n",
            "Epoch 4/20\n",
            "88/88 [==============================] - 97s 1s/step - loss: 0.0173 - accuracy: 0.9937 - val_loss: 0.1502 - val_accuracy: 0.9593\n",
            "Epoch 5/20\n",
            "88/88 [==============================] - 97s 1s/step - loss: 0.0131 - accuracy: 0.9954 - val_loss: 0.1725 - val_accuracy: 0.9593\n",
            "Epoch 6/20\n",
            "88/88 [==============================] - 97s 1s/step - loss: 0.0069 - accuracy: 0.9979 - val_loss: 0.2006 - val_accuracy: 0.9621\n",
            "Epoch 7/20\n",
            "88/88 [==============================] - 98s 1s/step - loss: 0.0050 - accuracy: 0.9982 - val_loss: 0.2114 - val_accuracy: 0.9600\n",
            "Epoch 8/20\n",
            "88/88 [==============================] - 97s 1s/step - loss: 0.0109 - accuracy: 0.9955 - val_loss: 0.2872 - val_accuracy: 0.9479\n",
            "Epoch 9/20\n",
            "88/88 [==============================] - 97s 1s/step - loss: 0.0361 - accuracy: 0.9882 - val_loss: 0.2839 - val_accuracy: 0.9550\n",
            "Epoch 10/20\n",
            "88/88 [==============================] - 97s 1s/step - loss: 0.0387 - accuracy: 0.9887 - val_loss: 0.2009 - val_accuracy: 0.9571\n",
            "Epoch 11/20\n",
            "88/88 [==============================] - 97s 1s/step - loss: 0.0140 - accuracy: 0.9955 - val_loss: 0.2516 - val_accuracy: 0.9614\n",
            "Epoch 12/20\n",
            "88/88 [==============================] - 97s 1s/step - loss: 0.0073 - accuracy: 0.9977 - val_loss: 0.2605 - val_accuracy: 0.9650\n",
            "Epoch 13/20\n",
            "88/88 [==============================] - 97s 1s/step - loss: 0.0073 - accuracy: 0.9979 - val_loss: 0.1850 - val_accuracy: 0.9636\n",
            "Epoch 14/20\n",
            "88/88 [==============================] - 97s 1s/step - loss: 0.0050 - accuracy: 0.9987 - val_loss: 0.2204 - val_accuracy: 0.9614\n",
            "Epoch 15/20\n",
            "88/88 [==============================] - 98s 1s/step - loss: 0.0054 - accuracy: 0.9987 - val_loss: 0.2169 - val_accuracy: 0.9636\n",
            "Epoch 16/20\n",
            "88/88 [==============================] - 97s 1s/step - loss: 0.0086 - accuracy: 0.9966 - val_loss: 0.2594 - val_accuracy: 0.9564\n",
            "Epoch 17/20\n",
            "88/88 [==============================] - 97s 1s/step - loss: 0.0159 - accuracy: 0.9959 - val_loss: 0.3517 - val_accuracy: 0.9586\n",
            "Epoch 18/20\n",
            "88/88 [==============================] - 97s 1s/step - loss: 0.0089 - accuracy: 0.9964 - val_loss: 0.2167 - val_accuracy: 0.9600\n",
            "Epoch 19/20\n",
            "88/88 [==============================] - 97s 1s/step - loss: 0.0121 - accuracy: 0.9966 - val_loss: 0.2622 - val_accuracy: 0.9550\n",
            "Epoch 20/20\n",
            "88/88 [==============================] - 97s 1s/step - loss: 0.0085 - accuracy: 0.9966 - val_loss: 0.2230 - val_accuracy: 0.9600\n"
          ]
        }
      ]
    },
    {
      "cell_type": "code",
      "metadata": {
        "colab": {
          "base_uri": "https://localhost:8080/"
        },
        "id": "mEI4Ke07qMN-",
        "outputId": "3ea4f2fe-8415-484b-e834-84b12377888e"
      },
      "source": [
        "Y_val_pred = modelInceptionV3.predict(x_val)\n",
        "print(f'The InceptionV3 model Accuracy on the Validation Set:',accuracy_score(np.argmax(y_val, axis=1), np.argmax(Y_val_pred, axis=1)))"
      ],
      "execution_count": 12,
      "outputs": [
        {
          "output_type": "stream",
          "name": "stdout",
          "text": [
            "The InceptionV3 model Accuracy on the Validation Set: 0.96\n"
          ]
        }
      ]
    },
    {
      "cell_type": "code",
      "metadata": {
        "colab": {
          "base_uri": "https://localhost:8080/"
        },
        "id": "ZwnlqWqyqat9",
        "outputId": "127e33a9-83fa-40b9-fbbe-ddf5e7eb3d55"
      },
      "source": [
        "#Now let's check my Y_test values\n",
        "print(f'My Y_test values are:\\n' ,Y_test)"
      ],
      "execution_count": 13,
      "outputs": [
        {
          "output_type": "stream",
          "name": "stdout",
          "text": [
            "My Y_test values are:\n",
            " [[0. 1.]\n",
            " [0. 1.]\n",
            " [1. 0.]\n",
            " ...\n",
            " [0. 1.]\n",
            " [1. 0.]\n",
            " [0. 1.]]\n"
          ]
        }
      ]
    },
    {
      "cell_type": "code",
      "metadata": {
        "colab": {
          "base_uri": "https://localhost:8080/"
        },
        "id": "fq-27A29qdfS",
        "outputId": "001d042f-8700-4350-c205-95c3e6ad93d7"
      },
      "source": [
        "#Now let's check my predcited values from X_test dataset\t\n",
        "import timeit\n",
        "\n",
        "start = timeit.default_timer()\n",
        "#Your statements here\n",
        "y_pred = modelInceptionV3.predict(X_test)\n",
        "print(f'My predicted Y_test values are:\\n' ,y_pred)\n",
        "\n",
        "stop = timeit.default_timer()\n",
        "print('\\nTime: ',stop - start,'sec')"
      ],
      "execution_count": 14,
      "outputs": [
        {
          "output_type": "stream",
          "name": "stdout",
          "text": [
            "My predicted Y_test values are:\n",
            " [[9.1223672e-05 9.9990880e-01]\n",
            " [2.4678528e-05 9.9997532e-01]\n",
            " [1.0000000e+00 5.4044604e-09]\n",
            " ...\n",
            " [4.0138661e-12 1.0000000e+00]\n",
            " [9.9999750e-01 2.5226316e-06]\n",
            " [3.0270861e-09 1.0000000e+00]]\n",
            "\n",
            "Time:  20.906086125 sec\n"
          ]
        }
      ]
    },
    {
      "cell_type": "code",
      "metadata": {
        "colab": {
          "base_uri": "https://localhost:8080/"
        },
        "id": "KA95EQZSqfng",
        "outputId": "34dffd39-be45-4d23-db2c-231345668e51"
      },
      "source": [
        "#Now let's check the accuracy between the original & predicted (Y_test , y_pred)\n",
        "print(f'My accuracy on Student model with InceptionV3 on the Test set is:',accuracy_score(np.argmax(Y_test, axis=1), np.argmax(y_pred, axis=1)))"
      ],
      "execution_count": 15,
      "outputs": [
        {
          "output_type": "stream",
          "name": "stdout",
          "text": [
            "My accuracy on Student model with InceptionV3 on the Test set is: 0.995\n"
          ]
        }
      ]
    },
    {
      "cell_type": "code",
      "metadata": {
        "colab": {
          "base_uri": "https://localhost:8080/"
        },
        "id": "18Eh46L2qgch",
        "outputId": "4eef444c-ce71-4df0-e0e7-67d863f65b0f"
      },
      "source": [
        "# Print the classification report\n",
        "print(classification_report( np.argmax(Y_test, axis=1), np.argmax(y_pred, axis=1)))"
      ],
      "execution_count": 16,
      "outputs": [
        {
          "output_type": "stream",
          "name": "stdout",
          "text": [
            "              precision    recall  f1-score   support\n",
            "\n",
            "           0       0.99      1.00      1.00      1500\n",
            "           1       1.00      0.99      0.99      1500\n",
            "\n",
            "    accuracy                           0.99      3000\n",
            "   macro avg       1.00      0.99      0.99      3000\n",
            "weighted avg       1.00      0.99      0.99      3000\n",
            "\n"
          ]
        }
      ]
    }
  ]
}