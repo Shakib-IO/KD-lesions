{
  "nbformat": 4,
  "nbformat_minor": 0,
  "metadata": {
    "colab": {
      "name": "WithoutKD_MobileNet.ipynb",
      "provenance": []
    },
    "kernelspec": {
      "name": "python3",
      "display_name": "Python 3"
    },
    "language_info": {
      "name": "python"
    },
    "accelerator": "GPU"
  },
  "cells": [
    {
      "cell_type": "code",
      "metadata": {
        "colab": {
          "base_uri": "https://localhost:8080/"
        },
        "id": "7g32E7dg3Xoq",
        "outputId": "466afccf-6be6-44a8-d9f1-68dcd82c2761"
      },
      "source": [
        "from google.colab import drive\n",
        "drive.mount('/content/drive')"
      ],
      "execution_count": 1,
      "outputs": [
        {
          "output_type": "stream",
          "name": "stdout",
          "text": [
            "Mounted at /content/drive\n"
          ]
        }
      ]
    },
    {
      "cell_type": "code",
      "metadata": {
        "id": "fPT49Q8m3qqm"
      },
      "source": [
        "import os\n",
        "import cv2\n",
        "from PIL import Image\n",
        "import numpy as np\n",
        "import scipy\n",
        "import pandas as pd\n",
        "import matplotlib.pyplot as plt\n",
        "plt.style.use('seaborn')\n",
        "\n",
        "from sklearn import metrics\n",
        "from sklearn.model_selection import train_test_split\n",
        "from sklearn.metrics import classification_report\n",
        "from sklearn.metrics import auc, roc_curve\n",
        "from tqdm import tqdm\n",
        "\n",
        "import time"
      ],
      "execution_count": 2,
      "outputs": []
    },
    {
      "cell_type": "code",
      "metadata": {
        "id": "q_xR3BGo3yvQ"
      },
      "source": [
        "# Keras & Tensorflow\n",
        "import keras\n",
        "import tensorflow as tf\n",
        "from keras import layers\n",
        "from keras.models import Model\n",
        "from keras.layers import Lambda, concatenate\n",
        "from tensorflow.keras.utils import to_categorical\n",
        "from keras.preprocessing.image import ImageDataGenerator\n",
        "from keras.models import Sequential\n",
        "from keras.layers import GlobalAveragePooling2D , Conv2D , MaxPooling2D\n",
        "from keras.layers import  Dropout , BatchNormalization , Dense\n",
        "from tensorflow.keras.optimizers import Adam\n",
        "from tensorflow.keras.applications import ResNet50\n",
        "from keras.callbacks import Callback , ReduceLROnPlateau , ModelCheckpoint\n",
        "from sklearn.metrics import cohen_kappa_score, accuracy_score\n",
        "from keras.losses import categorical_crossentropy as logloss\n",
        "from keras.metrics import categorical_accuracy"
      ],
      "execution_count": 4,
      "outputs": []
    },
    {
      "cell_type": "code",
      "metadata": {
        "colab": {
          "base_uri": "https://localhost:8080/"
        },
        "id": "0JBOrxqT37nE",
        "outputId": "e44a1f25-4cea-422c-a61c-02c7abd7581e"
      },
      "source": [
        "benign_train = np.load('/content/drive/MyDrive/CSE499/numpy/benign_train.npy')\n",
        "malign_train = np.load('/content/drive/MyDrive/CSE499/numpy/malign_train.npy')\n",
        "benign_test = np.load('/content/drive/MyDrive/CSE499/numpy/benign_test.npy')\n",
        "malign_test = np.load('/content/drive/MyDrive/CSE499/numpy/malign_test.npy')\n",
        "print('Done Loaded :)')"
      ],
      "execution_count": 5,
      "outputs": [
        {
          "output_type": "stream",
          "name": "stdout",
          "text": [
            "Done Loaded :)\n"
          ]
        }
      ]
    },
    {
      "cell_type": "code",
      "metadata": {
        "colab": {
          "base_uri": "https://localhost:8080/"
        },
        "id": "9GF_dF2y39fh",
        "outputId": "ca1a5ad2-5bda-4654-b0ee-9ae2e642fe31"
      },
      "source": [
        "#Shape of our dataset\n",
        "print(f'Benign Train:',benign_train.shape)\n",
        "print(f'Malignant Train',malign_train.shape)\n",
        "print(f'Benign Test:',benign_test.shape)\n",
        "print(f'Malignant Test',malign_test.shape)"
      ],
      "execution_count": 6,
      "outputs": [
        {
          "output_type": "stream",
          "name": "stdout",
          "text": [
            "Benign Train: (3500, 224, 224, 3)\n",
            "Malignant Train (3496, 224, 224, 3)\n",
            "Benign Test: (1500, 224, 224, 3)\n",
            "Malignant Test (1500, 224, 224, 3)\n"
          ]
        }
      ]
    },
    {
      "cell_type": "code",
      "metadata": {
        "id": "S1-ip_Fx4CZj"
      },
      "source": [
        "benign_train_label = np.zeros(len(benign_train),dtype=float)\n",
        "malign_train_label = np.ones(len(malign_train),dtype=float)\n",
        "benign_test_label = np.zeros(len(benign_test),dtype=float)\n",
        "malign_test_label = np.ones(len(malign_test),dtype=float) \n",
        "\n",
        "X_train = np.concatenate((benign_train, malign_train), axis = 0)\n",
        "Y_train = np.concatenate((benign_train_label, malign_train_label), axis = 0)\n",
        "X_test = np.concatenate((benign_test, malign_test), axis = 0)\n",
        "Y_test = np.concatenate((benign_test_label, malign_test_label), axis = 0)\n",
        "\n",
        "s = np.arange(X_train.shape[0])\n",
        "np.random.shuffle(s)\n",
        "X_train = X_train[s]\n",
        "Y_train = Y_train[s]\n",
        "\n",
        "s = np.arange(X_test.shape[0])\n",
        "np.random.shuffle(s)\n",
        "X_test = X_test[s]\n",
        "Y_test = Y_test[s]\n",
        "\n",
        "Y_train = to_categorical(Y_train, num_classes= 2)\n",
        "Y_test = to_categorical(Y_test, num_classes= 2)"
      ],
      "execution_count": 7,
      "outputs": []
    },
    {
      "cell_type": "code",
      "metadata": {
        "colab": {
          "base_uri": "https://localhost:8080/"
        },
        "id": "tC3SFeD24Emw",
        "outputId": "0fe3fff6-a2a2-4064-f6a2-8a42b217e70d"
      },
      "source": [
        "print(f'X train shape:',X_train.shape)\n",
        "print(f'X test shape:',X_test.shape)\n",
        "print(f'Y train shape:',Y_train.shape)\n",
        "print(f'Y test shape:',Y_test.shape)"
      ],
      "execution_count": 8,
      "outputs": [
        {
          "output_type": "stream",
          "name": "stdout",
          "text": [
            "X train shape: (6996, 224, 224, 3)\n",
            "X test shape: (3000, 224, 224, 3)\n",
            "Y train shape: (6996, 2)\n",
            "Y test shape: (3000, 2)\n"
          ]
        }
      ]
    },
    {
      "cell_type": "code",
      "metadata": {
        "id": "UkVFxE9B4Ln0"
      },
      "source": [
        "x_train, x_val, y_train, y_val = train_test_split(X_train, Y_train, test_size=0.2, random_state=10)"
      ],
      "execution_count": 9,
      "outputs": []
    },
    {
      "cell_type": "code",
      "metadata": {
        "colab": {
          "base_uri": "https://localhost:8080/"
        },
        "id": "wmkhEPnm4NL4",
        "outputId": "984ad47d-fcc3-4525-f075-9ce09e0ad101"
      },
      "source": [
        "print(f'x train shape:',x_train.shape)\n",
        "print(f'x val shape:',x_val.shape)\n",
        "print(f'y train shape:',y_train.shape)\n",
        "print(f'y val shape:',y_val.shape)"
      ],
      "execution_count": 10,
      "outputs": [
        {
          "output_type": "stream",
          "name": "stdout",
          "text": [
            "x train shape: (5596, 224, 224, 3)\n",
            "x val shape: (1400, 224, 224, 3)\n",
            "y train shape: (5596, 2)\n",
            "y val shape: (1400, 2)\n"
          ]
        }
      ]
    },
    {
      "cell_type": "code",
      "metadata": {
        "colab": {
          "base_uri": "https://localhost:8080/"
        },
        "id": "gg-BXkdr4R1E",
        "outputId": "e3836eef-3770-4455-97ab-bdde4fd8bf0b"
      },
      "source": [
        "# MobileNet\n",
        "from tensorflow.keras.applications import MobileNet\n",
        "\n",
        "def mobile_model1(backbone , lr = 1e-4):\n",
        "  model1 = Sequential()\n",
        "  model1.add(backbone)\n",
        "  model1.add(layers.GlobalAveragePooling2D())\n",
        "  model1.add(layers.Dropout(0.5))\n",
        "  model1.add(layers.BatchNormalization())\n",
        "  model1.add(layers.Dense(2 , activation='softmax'))\n",
        "  \n",
        "  model1.compile(\n",
        "        loss='categorical_crossentropy',\n",
        "        optimizer=Adam(learning_rate=lr),\n",
        "        metrics=['accuracy']\n",
        "    )\n",
        "    \n",
        "  return model1\n",
        "\n",
        "\n",
        "mobilenet1 = MobileNet(\n",
        "    weights = 'imagenet',\n",
        "    include_top = False,\n",
        "    input_shape =(224 , 224 , 3)\n",
        ")\n",
        "#call the model \n",
        "model1 = mobile_model1(mobilenet1 , lr = 1e-4)\n",
        "model1.build((None, 224, 224, 3))\n",
        "model1.summary()"
      ],
      "execution_count": 11,
      "outputs": [
        {
          "output_type": "stream",
          "name": "stdout",
          "text": [
            "Downloading data from https://storage.googleapis.com/tensorflow/keras-applications/mobilenet/mobilenet_1_0_224_tf_no_top.h5\n",
            "17227776/17225924 [==============================] - 0s 0us/step\n",
            "17235968/17225924 [==============================] - 0s 0us/step\n",
            "Model: \"sequential\"\n",
            "_________________________________________________________________\n",
            " Layer (type)                Output Shape              Param #   \n",
            "=================================================================\n",
            " mobilenet_1.00_224 (Functio  (None, 7, 7, 1024)       3228864   \n",
            " nal)                                                            \n",
            "                                                                 \n",
            " global_average_pooling2d (G  (None, 1024)             0         \n",
            " lobalAveragePooling2D)                                          \n",
            "                                                                 \n",
            " dropout (Dropout)           (None, 1024)              0         \n",
            "                                                                 \n",
            " batch_normalization (BatchN  (None, 1024)             4096      \n",
            " ormalization)                                                   \n",
            "                                                                 \n",
            " dense (Dense)               (None, 2)                 2050      \n",
            "                                                                 \n",
            "=================================================================\n",
            "Total params: 3,235,010\n",
            "Trainable params: 3,211,074\n",
            "Non-trainable params: 23,936\n",
            "_________________________________________________________________\n"
          ]
        }
      ]
    },
    {
      "cell_type": "code",
      "metadata": {
        "colab": {
          "base_uri": "https://localhost:8080/"
        },
        "id": "SUwQclDD5NCN",
        "outputId": "53f30453-db8a-4d3e-dfde-827062f19a3f"
      },
      "source": [
        "# Training the teacher model with Resnet50\n",
        "# Train the teacher model as usual\n",
        "epochs = 20\n",
        "batch_size = 64\n",
        "teacher_his = model1.fit(x_train, y_train,\n",
        "          batch_size=batch_size,\n",
        "          epochs=epochs,\n",
        "          verbose=1,\n",
        "          validation_data=(x_val, y_val))"
      ],
      "execution_count": 12,
      "outputs": [
        {
          "output_type": "stream",
          "name": "stdout",
          "text": [
            "Epoch 1/20\n",
            "88/88 [==============================] - 95s 686ms/step - loss: 0.2264 - accuracy: 0.9216 - val_loss: 0.1817 - val_accuracy: 0.9207\n",
            "Epoch 2/20\n",
            "88/88 [==============================] - 58s 654ms/step - loss: 0.0909 - accuracy: 0.9650 - val_loss: 0.1244 - val_accuracy: 0.9464\n",
            "Epoch 3/20\n",
            "88/88 [==============================] - 58s 655ms/step - loss: 0.0487 - accuracy: 0.9809 - val_loss: 0.1221 - val_accuracy: 0.9486\n",
            "Epoch 4/20\n",
            "88/88 [==============================] - 58s 655ms/step - loss: 0.0296 - accuracy: 0.9887 - val_loss: 0.1366 - val_accuracy: 0.9471\n",
            "Epoch 5/20\n",
            "88/88 [==============================] - 58s 656ms/step - loss: 0.0139 - accuracy: 0.9962 - val_loss: 0.1495 - val_accuracy: 0.9500\n",
            "Epoch 6/20\n",
            "88/88 [==============================] - 58s 657ms/step - loss: 0.0102 - accuracy: 0.9973 - val_loss: 0.1331 - val_accuracy: 0.9621\n",
            "Epoch 7/20\n",
            "88/88 [==============================] - 58s 657ms/step - loss: 0.0051 - accuracy: 0.9986 - val_loss: 0.1466 - val_accuracy: 0.9514\n",
            "Epoch 8/20\n",
            "88/88 [==============================] - 58s 656ms/step - loss: 0.0053 - accuracy: 0.9986 - val_loss: 0.1432 - val_accuracy: 0.9586\n",
            "Epoch 9/20\n",
            "88/88 [==============================] - 58s 654ms/step - loss: 0.0035 - accuracy: 0.9989 - val_loss: 0.1495 - val_accuracy: 0.9571\n",
            "Epoch 10/20\n",
            "88/88 [==============================] - 58s 655ms/step - loss: 0.0034 - accuracy: 0.9995 - val_loss: 0.1857 - val_accuracy: 0.9514\n",
            "Epoch 11/20\n",
            "88/88 [==============================] - 58s 656ms/step - loss: 0.0038 - accuracy: 0.9993 - val_loss: 0.1639 - val_accuracy: 0.9557\n",
            "Epoch 12/20\n",
            "88/88 [==============================] - 58s 659ms/step - loss: 0.0022 - accuracy: 0.9998 - val_loss: 0.1724 - val_accuracy: 0.9557\n",
            "Epoch 13/20\n",
            "88/88 [==============================] - 58s 657ms/step - loss: 0.0013 - accuracy: 1.0000 - val_loss: 0.1643 - val_accuracy: 0.9586\n",
            "Epoch 14/20\n",
            "88/88 [==============================] - 58s 657ms/step - loss: 0.0017 - accuracy: 0.9998 - val_loss: 0.1578 - val_accuracy: 0.9571\n",
            "Epoch 15/20\n",
            "88/88 [==============================] - 58s 656ms/step - loss: 0.0012 - accuracy: 0.9998 - val_loss: 0.1656 - val_accuracy: 0.9600\n",
            "Epoch 16/20\n",
            "88/88 [==============================] - 58s 656ms/step - loss: 0.0012 - accuracy: 0.9996 - val_loss: 0.2108 - val_accuracy: 0.9557\n",
            "Epoch 17/20\n",
            "88/88 [==============================] - 58s 661ms/step - loss: 7.3299e-04 - accuracy: 1.0000 - val_loss: 0.1727 - val_accuracy: 0.9571\n",
            "Epoch 18/20\n",
            "88/88 [==============================] - 58s 657ms/step - loss: 0.0016 - accuracy: 0.9996 - val_loss: 0.1896 - val_accuracy: 0.9564\n",
            "Epoch 19/20\n",
            "88/88 [==============================] - 58s 658ms/step - loss: 8.8484e-04 - accuracy: 1.0000 - val_loss: 0.1919 - val_accuracy: 0.9586\n",
            "Epoch 20/20\n",
            "88/88 [==============================] - 58s 659ms/step - loss: 9.8154e-04 - accuracy: 1.0000 - val_loss: 0.1740 - val_accuracy: 0.9607\n"
          ]
        }
      ]
    },
    {
      "cell_type": "code",
      "metadata": {
        "colab": {
          "base_uri": "https://localhost:8080/",
          "height": 376
        },
        "id": "tDIX0Rtv8ua3",
        "outputId": "3332ff82-2837-433d-ecf1-77f47526fe5b"
      },
      "source": [
        "#https://machinelearningmastery.com/display-deep-learning-model-training-history-in-keras/\n",
        "# summarize history for accuracy\n",
        "plt.plot(teacher_his.history['accuracy'],)\n",
        "plt.plot(teacher_his.history['val_accuracy'])\n",
        "plt.title('model accuracy')\n",
        "plt.ylabel('accuracy')\n",
        "plt.xlabel('epoch')\n",
        "plt.legend(['train', 'val'], loc='lower right')\n",
        "plt.show()"
      ],
      "execution_count": 13,
      "outputs": [
        {
          "output_type": "display_data",
          "data": {
            "image/png": "[encoded data removed]",
            "text/plain": [
              "<Figure size 576x396 with 1 Axes>"
            ]
          },
          "metadata": {}
        }
      ]
    },
    {
      "cell_type": "code",
      "metadata": {
        "colab": {
          "base_uri": "https://localhost:8080/",
          "height": 376
        },
        "id": "YKqJbiNo8yRW",
        "outputId": "d63f6b2c-17dc-4c8b-bbae-22fc3311e414"
      },
      "source": [
        "#https://machinelearningmastery.com/display-deep-learning-model-training-history-in-keras/\n",
        "# summarize history for accuracy\n",
        "plt.plot(teacher_his.history['loss'])\n",
        "plt.plot(teacher_his.history['val_loss'])\n",
        "plt.title('model Loss')\n",
        "plt.ylabel('Loss')\n",
        "plt.xlabel('epoch')\n",
        "plt.legend(['train', 'val'], loc='lower left')\n",
        "plt.show()"
      ],
      "execution_count": 14,
      "outputs": [
        {
          "output_type": "display_data",
          "data": {
            "image/png": "[encoded data removed]",
            "text/plain": [
              "<Figure size 576x396 with 1 Axes>"
            ]
          },
          "metadata": {}
        }
      ]
    },
    {
      "cell_type": "code",
      "metadata": {
        "colab": {
          "base_uri": "https://localhost:8080/"
        },
        "id": "5hwl2z248zXV",
        "outputId": "5f66602d-1eab-4fb4-af0f-ec5d5fac5a0c"
      },
      "source": [
        "Y_val_pred = model1.predict(x_val)\n",
        "print(f'The Teacher model Accuracy on the Validation Set:',accuracy_score(np.argmax(y_val, axis=1), np.argmax(Y_val_pred, axis=1)))"
      ],
      "execution_count": 15,
      "outputs": [
        {
          "output_type": "stream",
          "name": "stdout",
          "text": [
            "The Teacher model Accuracy on the Validation Set: 0.9607142857142857\n"
          ]
        }
      ]
    },
    {
      "cell_type": "code",
      "metadata": {
        "colab": {
          "base_uri": "https://localhost:8080/"
        },
        "id": "Vj8T6dFo83kX",
        "outputId": "ead96ab0-33c3-4afe-c0c8-211404bf3c49"
      },
      "source": [
        "#Now let's check my Y_test values\n",
        "print(f'My Y_test values are:\\n' ,Y_test)"
      ],
      "execution_count": 16,
      "outputs": [
        {
          "output_type": "stream",
          "name": "stdout",
          "text": [
            "My Y_test values are:\n",
            " [[1. 0.]\n",
            " [0. 1.]\n",
            " [0. 1.]\n",
            " ...\n",
            " [1. 0.]\n",
            " [0. 1.]\n",
            " [0. 1.]]\n"
          ]
        }
      ]
    },
    {
      "cell_type": "code",
      "metadata": {
        "colab": {
          "base_uri": "https://localhost:8080/"
        },
        "id": "khxVsR3y87Dh",
        "outputId": "dc3f1504-0d68-4d6a-ddde-a3c7a3c88377"
      },
      "source": [
        "#Now let's check my predcited values from X_test dataset\t\n",
        "# And calculate the y_pred with time\n",
        "import timeit\n",
        "\n",
        "start = timeit.default_timer()\n",
        "#Your statements here\n",
        "y_pred = model1.predict(X_test)\n",
        "print(f'My predicted Y_test values are:\\n' ,y_pred)\n",
        "\n",
        "stop = timeit.default_timer()\n",
        "print('\\nTime: ',stop - start,'sec')"
      ],
      "execution_count": 17,
      "outputs": [
        {
          "output_type": "stream",
          "name": "stdout",
          "text": [
            "My predicted Y_test values are:\n",
            " [[9.9999344e-01 6.5030322e-06]\n",
            " [3.7375928e-04 9.9962628e-01]\n",
            " [1.4851315e-06 9.9999857e-01]\n",
            " ...\n",
            " [9.9999285e-01 7.1897166e-06]\n",
            " [2.6187649e-07 9.9999976e-01]\n",
            " [1.9846143e-08 1.0000000e+00]]\n",
            "\n",
            "Time:  6.812424214999737 sec\n"
          ]
        }
      ]
    },
    {
      "cell_type": "code",
      "metadata": {
        "colab": {
          "base_uri": "https://localhost:8080/"
        },
        "id": "zGiAVO8x8-AW",
        "outputId": "7df48cbd-ea15-49c9-c0cd-50da7f345ee9"
      },
      "source": [
        "#Now let's check the accuracy between the original & predicted (Y_test , y_pred)\n",
        "print(f'My accuracy:',accuracy_score(np.argmax(Y_test, axis=1), np.argmax(y_pred, axis=1)))"
      ],
      "execution_count": 18,
      "outputs": [
        {
          "output_type": "stream",
          "name": "stdout",
          "text": [
            "My accuracy: 0.993\n"
          ]
        }
      ]
    },
    {
      "cell_type": "code",
      "metadata": {
        "colab": {
          "base_uri": "https://localhost:8080/"
        },
        "id": "_0IzLrax9AAp",
        "outputId": "3f5ecfe7-1c17-4f1f-fd1c-9e7f78fea53d"
      },
      "source": [
        "# Print the classification report\n",
        "print(classification_report( np.argmax(Y_test, axis=1), np.argmax(y_pred, axis=1)))"
      ],
      "execution_count": 19,
      "outputs": [
        {
          "output_type": "stream",
          "name": "stdout",
          "text": [
            "              precision    recall  f1-score   support\n",
            "\n",
            "           0       0.99      1.00      0.99      1500\n",
            "           1       1.00      0.99      0.99      1500\n",
            "\n",
            "    accuracy                           0.99      3000\n",
            "   macro avg       0.99      0.99      0.99      3000\n",
            "weighted avg       0.99      0.99      0.99      3000\n",
            "\n"
          ]
        }
      ]
    },
    {
      "cell_type": "code",
      "metadata": {
        "colab": {
          "base_uri": "https://localhost:8080/"
        },
        "id": "VZCYb5-B9D6d",
        "outputId": "ed13507d-51b2-44b6-cd3d-d9c2f22722fc"
      },
      "source": [
        "# roc curve for models\n",
        "fpr1, tpr1, thresh1 = roc_curve(np.argmax(Y_test, axis=1), np.argmax(y_pred, axis=1),pos_label=1)\n",
        "\n",
        "# roc curve for\n",
        "random_probs = [0 for i in range(len(np.argmax(Y_test, axis=1)))]\n",
        "p_fpr, p_tpr, _ = roc_curve(np.argmax(Y_test, axis=1), random_probs, pos_label=1)\n",
        "\n",
        "# auc scores\n",
        "from sklearn.metrics import roc_auc_score\n",
        "auc_score1 = roc_auc_score(np.argmax(Y_test, axis=1), np.argmax(y_pred, axis=1))\n",
        "print(auc_score1)"
      ],
      "execution_count": 20,
      "outputs": [
        {
          "output_type": "stream",
          "name": "stdout",
          "text": [
            "0.9930000000000001\n"
          ]
        }
      ]
    },
    {
      "cell_type": "code",
      "metadata": {
        "colab": {
          "base_uri": "https://localhost:8080/",
          "height": 420
        },
        "id": "rBcSZn7U9F4O",
        "outputId": "75f66183-6350-435b-e21e-a8c29d237e5b"
      },
      "source": [
        "from sklearn.metrics import roc_curve\n",
        "\n",
        "# roc curve for models\n",
        "fpr1, tpr1, thresh1 = roc_curve(np.argmax(Y_test, axis=1), np.argmax(y_pred, axis=1),pos_label=1)\n",
        "\n",
        "# roc curve for\n",
        "random_probs = [0 for i in range(len(np.argmax(Y_test, axis=1)))]\n",
        "p_fpr, p_tpr, _ = roc_curve(np.argmax(Y_test, axis=1), random_probs, pos_label=1)\n",
        "\n",
        "# auc scores\n",
        "auc_score1 = roc_auc_score(np.argmax(Y_test, axis=1), np.argmax(y_pred, axis=1))\n",
        "print(auc_score1)\n",
        "\n",
        "\n",
        "# plot roc curves\n",
        "plt.plot(fpr1, tpr1, linestyle='--',color='orange')\n",
        "plt.plot(p_fpr, p_tpr, linestyle='--', color='blue')\n",
        "# title\n",
        "plt.title('ROC curve')\n",
        "# x label\n",
        "plt.xlabel('\\nFalse Positive Rate')\n",
        "# y label\n",
        "plt.ylabel('\\nTrue Positive rate')\n",
        "\n",
        "plt.legend(loc='best')\n",
        "plt.savefig('ROC',dpi=300)\n",
        "plt.show();"
      ],
      "execution_count": 21,
      "outputs": [
        {
          "output_type": "stream",
          "name": "stderr",
          "text": [
            "No handles with labels found to put in legend.\n"
          ]
        },
        {
          "output_type": "stream",
          "name": "stdout",
          "text": [
            "0.9930000000000001\n"
          ]
        },
        {
          "output_type": "display_data",
          "data": {
            "image/png": "[encoded data removed]",
            "text/plain": [
              "<Figure size 576x396 with 1 Axes>"
            ]
          },
          "metadata": {}
        }
      ]
    }
  ]
}