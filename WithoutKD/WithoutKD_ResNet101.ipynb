{
  "nbformat": 4,
  "nbformat_minor": 0,
  "metadata": {
    "colab": {
      "name": "WithoutKD_ResNet101.ipynb",
      "provenance": [],
      "collapsed_sections": []
    },
    "kernelspec": {
      "name": "python3",
      "display_name": "Python 3"
    },
    "language_info": {
      "name": "python"
    },
    "accelerator": "GPU"
  },
  "cells": [
    {
      "cell_type": "code",
      "metadata": {
        "colab": {
          "base_uri": "https://localhost:8080/"
        },
        "id": "W7uNEqF5OpBU",
        "outputId": "1f9bf327-96dc-4974-be51-692e2cbd4599"
      },
      "source": [
        "from google.colab import drive\n",
        "drive.mount('/content/drive')"
      ],
      "execution_count": 5,
      "outputs": [
        {
          "output_type": "stream",
          "name": "stdout",
          "text": [
            "Mounted at /content/drive\n"
          ]
        }
      ]
    },
    {
      "cell_type": "code",
      "metadata": {
        "id": "qT6fvHBkPL0x"
      },
      "source": [
        "import os\n",
        "import cv2\n",
        "from PIL import Image\n",
        "import numpy as np\n",
        "import scipy\n",
        "import pandas as pd\n",
        "import matplotlib.pyplot as plt\n",
        "plt.style.use('seaborn')\n",
        "\n",
        "from sklearn import metrics\n",
        "from sklearn.model_selection import train_test_split\n",
        "from sklearn.metrics import classification_report\n",
        "from sklearn.metrics import auc, roc_curve\n",
        "from tqdm import tqdm\n",
        "\n",
        "import time"
      ],
      "execution_count": 6,
      "outputs": []
    },
    {
      "cell_type": "code",
      "metadata": {
        "id": "D3tfA6ETPOIE"
      },
      "source": [
        "# Keras & Tensorflow\n",
        "import keras\n",
        "import tensorflow as tf\n",
        "from keras import layers\n",
        "from keras.models import Model\n",
        "from keras.layers import Lambda, concatenate\n",
        "from tensorflow.keras.utils import to_categorical\n",
        "from keras.preprocessing.image import ImageDataGenerator\n",
        "from keras.models import Sequential\n",
        "from keras.layers import GlobalAveragePooling2D , Conv2D , MaxPooling2D\n",
        "from keras.layers import  Dropout , BatchNormalization , Dense\n",
        "from tensorflow.keras.optimizers import Adam\n",
        "from tensorflow.keras.applications import ResNet50\n",
        "from keras.callbacks import Callback , ReduceLROnPlateau , ModelCheckpoint\n",
        "from sklearn.metrics import cohen_kappa_score, accuracy_score\n",
        "from keras.losses import categorical_crossentropy as logloss\n",
        "from keras.metrics import categorical_accuracy"
      ],
      "execution_count": 7,
      "outputs": []
    },
    {
      "cell_type": "code",
      "metadata": {
        "colab": {
          "base_uri": "https://localhost:8080/"
        },
        "id": "fRvixFdSPT7H",
        "outputId": "fd30c7ac-9d77-4576-a158-ecbc27d5a1fa"
      },
      "source": [
        "benign_train = np.load('/content/drive/MyDrive/CSE499/numpy/benign_train.npy')\n",
        "malign_train = np.load('/content/drive/MyDrive/CSE499/numpy/malign_train.npy')\n",
        "benign_test = np.load('/content/drive/MyDrive/CSE499/numpy/benign_test.npy')\n",
        "malign_test = np.load('/content/drive/MyDrive/CSE499/numpy/malign_test.npy')\n",
        "print('Done Loaded :)')"
      ],
      "execution_count": 8,
      "outputs": [
        {
          "output_type": "stream",
          "name": "stdout",
          "text": [
            "Done Loaded :)\n"
          ]
        }
      ]
    },
    {
      "cell_type": "code",
      "metadata": {
        "colab": {
          "base_uri": "https://localhost:8080/"
        },
        "id": "GXX6mEMyPb-f",
        "outputId": "22a88fdf-a092-43d0-cb10-d30436e4f0c1"
      },
      "source": [
        "#Shape of our dataset\n",
        "print(f'Benign Train:',benign_train.shape)\n",
        "print(f'Malignant Train',malign_train.shape)\n",
        "print(f'Benign Test:',benign_test.shape)\n",
        "print(f'Malignant Test',malign_test.shape)"
      ],
      "execution_count": 9,
      "outputs": [
        {
          "output_type": "stream",
          "name": "stdout",
          "text": [
            "Benign Train: (3500, 224, 224, 3)\n",
            "Malignant Train (3496, 224, 224, 3)\n",
            "Benign Test: (1500, 224, 224, 3)\n",
            "Malignant Test (1500, 224, 224, 3)\n"
          ]
        }
      ]
    },
    {
      "cell_type": "code",
      "metadata": {
        "id": "gpYoNXBUPfg8"
      },
      "source": [
        "benign_train_label = np.zeros(len(benign_train),dtype=float)\n",
        "malign_train_label = np.ones(len(malign_train),dtype=float)\n",
        "benign_test_label = np.zeros(len(benign_test),dtype=float)\n",
        "malign_test_label = np.ones(len(malign_test),dtype=float) \n",
        "\n",
        "X_train = np.concatenate((benign_train, malign_train), axis = 0)\n",
        "Y_train = np.concatenate((benign_train_label, malign_train_label), axis = 0)\n",
        "X_test = np.concatenate((benign_test, malign_test), axis = 0)\n",
        "Y_test = np.concatenate((benign_test_label, malign_test_label), axis = 0)\n",
        "\n",
        "s = np.arange(X_train.shape[0])\n",
        "np.random.shuffle(s)\n",
        "X_train = X_train[s]\n",
        "Y_train = Y_train[s]\n",
        "\n",
        "s = np.arange(X_test.shape[0])\n",
        "np.random.shuffle(s)\n",
        "X_test = X_test[s]\n",
        "Y_test = Y_test[s]\n",
        "\n",
        "Y_train = to_categorical(Y_train, num_classes= 2)\n",
        "Y_test = to_categorical(Y_test, num_classes= 2)"
      ],
      "execution_count": 10,
      "outputs": []
    },
    {
      "cell_type": "code",
      "metadata": {
        "colab": {
          "base_uri": "https://localhost:8080/"
        },
        "id": "HvTir0daPrUY",
        "outputId": "8b05442a-44b3-428d-95e4-fb99ab3deca9"
      },
      "source": [
        "print(f'X train shape:',X_train.shape)\n",
        "print(f'X test shape:',X_test.shape)\n",
        "print(f'Y train shape:',Y_train.shape)\n",
        "print(f'Y test shape:',Y_test.shape)"
      ],
      "execution_count": 11,
      "outputs": [
        {
          "output_type": "stream",
          "name": "stdout",
          "text": [
            "X train shape: (6996, 224, 224, 3)\n",
            "X test shape: (3000, 224, 224, 3)\n",
            "Y train shape: (6996, 2)\n",
            "Y test shape: (3000, 2)\n"
          ]
        }
      ]
    },
    {
      "cell_type": "code",
      "metadata": {
        "id": "1e8NCUIMPr51"
      },
      "source": [
        "x_train, x_val, y_train, y_val = train_test_split(X_train, Y_train, test_size=0.2, random_state=10)"
      ],
      "execution_count": 12,
      "outputs": []
    },
    {
      "cell_type": "code",
      "metadata": {
        "colab": {
          "base_uri": "https://localhost:8080/"
        },
        "id": "jcEyqOfFPxMg",
        "outputId": "028fd547-5c3a-4016-974e-bed9b6efe047"
      },
      "source": [
        "print(f'x train shape:',x_train.shape)\n",
        "print(f'x val shape:',x_val.shape)\n",
        "print(f'y train shape:',y_train.shape)\n",
        "print(f'y val shape:',y_val.shape)"
      ],
      "execution_count": 13,
      "outputs": [
        {
          "output_type": "stream",
          "name": "stdout",
          "text": [
            "x train shape: (5596, 224, 224, 3)\n",
            "x val shape: (1400, 224, 224, 3)\n",
            "y train shape: (5596, 2)\n",
            "y val shape: (1400, 2)\n"
          ]
        }
      ]
    },
    {
      "cell_type": "code",
      "metadata": {
        "colab": {
          "base_uri": "https://localhost:8080/"
        },
        "id": "XqzScwerPy3p",
        "outputId": "aeeae396-3b1e-4cea-edfb-b5055782ee4d"
      },
      "source": [
        "from tensorflow.keras.applications import ResNet101\n",
        "\n",
        "def res_model101(backbone , lr = 1e-4):\n",
        "  resmodel101 = Sequential()\n",
        "  resmodel101.add(backbone)\n",
        "  resmodel101.add(layers.GlobalAveragePooling2D())\n",
        "  resmodel101.add(layers.Dropout(0.5))\n",
        "  resmodel101.add(layers.BatchNormalization())\n",
        "  resmodel101.add(layers.Dense(2 , activation='softmax'))\n",
        "  \n",
        "  resmodel101.compile(\n",
        "        loss='categorical_crossentropy',\n",
        "        optimizer=Adam(learning_rate=lr),\n",
        "        metrics=['accuracy']\n",
        "    )\n",
        "    \n",
        "  return resmodel101\n",
        "\n",
        "\n",
        "resenet101 = ResNet101(\n",
        "    weights = 'imagenet',\n",
        "    include_top = False,\n",
        "    input_shape =(224 , 224 , 3)\n",
        ")\n",
        "#call the model \n",
        "resmodel101 = res_model101(resenet101 , lr = 1e-4)\n",
        "resmodel101.build((None, 224, 224, 3))\n",
        "resmodel101.summary()"
      ],
      "execution_count": 14,
      "outputs": [
        {
          "output_type": "stream",
          "name": "stdout",
          "text": [
            "Downloading data from https://storage.googleapis.com/tensorflow/keras-applications/resnet/resnet101_weights_tf_dim_ordering_tf_kernels_notop.h5\n",
            "171450368/171446536 [==============================] - 13s 0us/step\n",
            "171458560/171446536 [==============================] - 13s 0us/step\n",
            "Model: \"sequential\"\n",
            "_________________________________________________________________\n",
            " Layer (type)                Output Shape              Param #   \n",
            "=================================================================\n",
            " resnet101 (Functional)      (None, 7, 7, 2048)        42658176  \n",
            "                                                                 \n",
            " global_average_pooling2d (G  (None, 2048)             0         \n",
            " lobalAveragePooling2D)                                          \n",
            "                                                                 \n",
            " dropout (Dropout)           (None, 2048)              0         \n",
            "                                                                 \n",
            " batch_normalization (BatchN  (None, 2048)             8192      \n",
            " ormalization)                                                   \n",
            "                                                                 \n",
            " dense (Dense)               (None, 2)                 4098      \n",
            "                                                                 \n",
            "=================================================================\n",
            "Total params: 42,670,466\n",
            "Trainable params: 42,561,026\n",
            "Non-trainable params: 109,440\n",
            "_________________________________________________________________\n"
          ]
        }
      ]
    },
    {
      "cell_type": "code",
      "metadata": {
        "colab": {
          "base_uri": "https://localhost:8080/"
        },
        "id": "P5L3qU5gP2XJ",
        "outputId": "2fcdf8a9-6c6b-4609-9ada-30fe899f3ca8"
      },
      "source": [
        "# Training the teacher model with Resnet50\n",
        "# Train the teacher model as usual\n",
        "\n",
        "epochs = 20\n",
        "batch_size = 64\n",
        "resmodel101_student_his = resmodel101.fit(x_train, y_train,\n",
        "          batch_size=batch_size,\n",
        "          epochs=epochs,\n",
        "          verbose=1,\n",
        "          validation_data=(x_val, y_val))"
      ],
      "execution_count": 15,
      "outputs": [
        {
          "output_type": "stream",
          "name": "stdout",
          "text": [
            "Epoch 1/20\n",
            "88/88 [==============================] - 396s 3s/step - loss: 0.1844 - accuracy: 0.9317 - val_loss: 0.1446 - val_accuracy: 0.9443\n",
            "Epoch 2/20\n",
            "88/88 [==============================] - 245s 3s/step - loss: 0.0700 - accuracy: 0.9739 - val_loss: 0.1290 - val_accuracy: 0.9579\n",
            "Epoch 3/20\n",
            "88/88 [==============================] - 249s 3s/step - loss: 0.0386 - accuracy: 0.9843 - val_loss: 0.1326 - val_accuracy: 0.9607\n",
            "Epoch 4/20\n",
            "88/88 [==============================] - 246s 3s/step - loss: 0.0275 - accuracy: 0.9905 - val_loss: 0.1450 - val_accuracy: 0.9593\n",
            "Epoch 5/20\n",
            "88/88 [==============================] - 239s 3s/step - loss: 0.0161 - accuracy: 0.9945 - val_loss: 0.1342 - val_accuracy: 0.9621\n",
            "Epoch 6/20\n",
            "88/88 [==============================] - 239s 3s/step - loss: 0.0149 - accuracy: 0.9950 - val_loss: 0.4126 - val_accuracy: 0.9486\n",
            "Epoch 7/20\n",
            "88/88 [==============================] - 235s 3s/step - loss: 0.0166 - accuracy: 0.9954 - val_loss: 0.1666 - val_accuracy: 0.9543\n",
            "Epoch 8/20\n",
            "88/88 [==============================] - 237s 3s/step - loss: 0.0085 - accuracy: 0.9973 - val_loss: 0.1946 - val_accuracy: 0.9600\n",
            "Epoch 9/20\n",
            "88/88 [==============================] - 236s 3s/step - loss: 0.0081 - accuracy: 0.9977 - val_loss: 0.1752 - val_accuracy: 0.9550\n",
            "Epoch 10/20\n",
            "88/88 [==============================] - 231s 3s/step - loss: 0.0078 - accuracy: 0.9973 - val_loss: 0.2782 - val_accuracy: 0.9629\n",
            "Epoch 11/20\n",
            "88/88 [==============================] - 230s 3s/step - loss: 0.0296 - accuracy: 0.9914 - val_loss: 0.3974 - val_accuracy: 0.9536\n",
            "Epoch 12/20\n",
            "88/88 [==============================] - 238s 3s/step - loss: 0.0264 - accuracy: 0.9900 - val_loss: 0.2287 - val_accuracy: 0.9579\n",
            "Epoch 13/20\n",
            "88/88 [==============================] - 231s 3s/step - loss: 0.0133 - accuracy: 0.9957 - val_loss: 0.2392 - val_accuracy: 0.9593\n",
            "Epoch 14/20\n",
            "88/88 [==============================] - 237s 3s/step - loss: 0.0092 - accuracy: 0.9977 - val_loss: 0.2240 - val_accuracy: 0.9557\n",
            "Epoch 15/20\n",
            "88/88 [==============================] - 233s 3s/step - loss: 0.0076 - accuracy: 0.9973 - val_loss: 0.1607 - val_accuracy: 0.9586\n",
            "Epoch 16/20\n",
            "88/88 [==============================] - 237s 3s/step - loss: 0.0049 - accuracy: 0.9980 - val_loss: 0.2602 - val_accuracy: 0.9629\n",
            "Epoch 17/20\n",
            "88/88 [==============================] - 231s 3s/step - loss: 0.0023 - accuracy: 0.9995 - val_loss: 0.1701 - val_accuracy: 0.9657\n",
            "Epoch 18/20\n",
            "88/88 [==============================] - 233s 3s/step - loss: 0.0044 - accuracy: 0.9977 - val_loss: 0.1725 - val_accuracy: 0.9643\n",
            "Epoch 19/20\n",
            "88/88 [==============================] - 237s 3s/step - loss: 0.0010 - accuracy: 0.9998 - val_loss: 0.1723 - val_accuracy: 0.9643\n",
            "Epoch 20/20\n",
            "88/88 [==============================] - 229s 3s/step - loss: 3.6812e-04 - accuracy: 1.0000 - val_loss: 0.1766 - val_accuracy: 0.9679\n"
          ]
        }
      ]
    },
    {
      "cell_type": "code",
      "metadata": {
        "id": "a79VsEgUY2_M",
        "colab": {
          "base_uri": "https://localhost:8080/"
        },
        "outputId": "54fd14ed-c003-46a6-cdd4-63d3ff4dd9ab"
      },
      "source": [
        "Y_val_pred = resmodel101.predict(x_val)\n",
        "print(f'The ResNet101 model Accuracy on the Validation Set:',accuracy_score(np.argmax(y_val, axis=1), np.argmax(Y_val_pred, axis=1)))"
      ],
      "execution_count": 16,
      "outputs": [
        {
          "output_type": "stream",
          "name": "stdout",
          "text": [
            "The ResNet101 model Accuracy on the Validation Set: 0.9678571428571429\n"
          ]
        }
      ]
    },
    {
      "cell_type": "code",
      "metadata": {
        "id": "DLTVWUTsY4T9",
        "colab": {
          "base_uri": "https://localhost:8080/"
        },
        "outputId": "98aaba27-074b-4adc-f55f-65d29fc4fcd2"
      },
      "source": [
        "#Now let's check my Y_test values\n",
        "print(f'My Y_test values are:\\n' ,Y_test)"
      ],
      "execution_count": 17,
      "outputs": [
        {
          "output_type": "stream",
          "name": "stdout",
          "text": [
            "My Y_test values are:\n",
            " [[1. 0.]\n",
            " [1. 0.]\n",
            " [0. 1.]\n",
            " ...\n",
            " [0. 1.]\n",
            " [0. 1.]\n",
            " [1. 0.]]\n"
          ]
        }
      ]
    },
    {
      "cell_type": "code",
      "metadata": {
        "id": "S9nDAkVMY5-_",
        "colab": {
          "base_uri": "https://localhost:8080/"
        },
        "outputId": "7c0c2d53-c4a0-4a54-92c2-76c73cd77ce5"
      },
      "source": [
        "#Now let's check my predcited values from X_test dataset\t\n",
        "import timeit\n",
        "\n",
        "start = timeit.default_timer()\n",
        "#Your statements here\n",
        "y_pred = resmodel101.predict(X_test)\n",
        "print(f'My predicted Y_test values are:\\n' ,y_pred)\n",
        "\n",
        "stop = timeit.default_timer()\n",
        "print('\\nTime: ',stop - start,'sec')"
      ],
      "execution_count": 19,
      "outputs": [
        {
          "output_type": "stream",
          "name": "stdout",
          "text": [
            "My predicted Y_test values are:\n",
            " [[9.9999976e-01 2.3670326e-07]\n",
            " [9.9999785e-01 2.1068079e-06]\n",
            " [1.6881677e-07 9.9999988e-01]\n",
            " ...\n",
            " [1.0795724e-02 9.8920435e-01]\n",
            " [6.7005067e-07 9.9999928e-01]\n",
            " [9.9999988e-01 7.4649392e-08]]\n",
            "\n",
            "Time:  52.32076698800029 sec\n"
          ]
        }
      ]
    },
    {
      "cell_type": "code",
      "metadata": {
        "id": "3JDlEwHmY7mf",
        "colab": {
          "base_uri": "https://localhost:8080/"
        },
        "outputId": "52064006-0f69-40c2-f9d7-d28c03d21d48"
      },
      "source": [
        "#Now let's check the accuracy between the original & predicted (Y_test , y_pred)\n",
        "print(f'My accuracy on Student model with ResNet101 on the Test set is:',accuracy_score(np.argmax(Y_test, axis=1), np.argmax(y_pred, axis=1)))"
      ],
      "execution_count": 20,
      "outputs": [
        {
          "output_type": "stream",
          "name": "stdout",
          "text": [
            "My accuracy on Student model with ResNet101 on the Test set is: 0.9983333333333333\n"
          ]
        }
      ]
    },
    {
      "cell_type": "code",
      "metadata": {
        "id": "y9ZCvsXPY9LQ",
        "colab": {
          "base_uri": "https://localhost:8080/"
        },
        "outputId": "912b956a-5b63-4c20-921e-ebf854fe55a4"
      },
      "source": [
        "# Print the classification report\n",
        "print(classification_report( np.argmax(Y_test, axis=1), np.argmax(y_pred, axis=1)))"
      ],
      "execution_count": 21,
      "outputs": [
        {
          "output_type": "stream",
          "name": "stdout",
          "text": [
            "              precision    recall  f1-score   support\n",
            "\n",
            "           0       1.00      1.00      1.00      1500\n",
            "           1       1.00      1.00      1.00      1500\n",
            "\n",
            "    accuracy                           1.00      3000\n",
            "   macro avg       1.00      1.00      1.00      3000\n",
            "weighted avg       1.00      1.00      1.00      3000\n",
            "\n"
          ]
        }
      ]
    }
  ]
}