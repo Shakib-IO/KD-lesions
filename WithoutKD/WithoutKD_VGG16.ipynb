{
  "nbformat": 4,
  "nbformat_minor": 0,
  "metadata": {
    "colab": {
      "name": "WithoutKD_VGG16.ipynb",
      "provenance": [],
      "collapsed_sections": []
    },
    "kernelspec": {
      "name": "python3",
      "display_name": "Python 3"
    },
    "language_info": {
      "name": "python"
    },
    "accelerator": "GPU"
  },
  "cells": [
    {
      "cell_type": "code",
      "metadata": {
        "colab": {
          "base_uri": "https://localhost:8080/"
        },
        "id": "Rxvm8HLsKZyB",
        "outputId": "280a7250-ea83-4951-e2fa-f66145951841"
      },
      "source": [
        "from google.colab import drive\n",
        "drive.mount('/content/drive')"
      ],
      "execution_count": 1,
      "outputs": [
        {
          "output_type": "stream",
          "name": "stdout",
          "text": [
            "Mounted at /content/drive\n"
          ]
        }
      ]
    },
    {
      "cell_type": "code",
      "metadata": {
        "id": "h-Z6ETeTLdqr"
      },
      "source": [
        "import os\n",
        "import cv2\n",
        "from PIL import Image\n",
        "import numpy as np\n",
        "import scipy\n",
        "import pandas as pd\n",
        "import matplotlib.pyplot as plt\n",
        "plt.style.use('seaborn')\n",
        "\n",
        "from sklearn import metrics\n",
        "from sklearn.model_selection import train_test_split\n",
        "from sklearn.metrics import classification_report\n",
        "from sklearn.metrics import auc, roc_curve\n",
        "from tqdm import tqdm\n",
        "\n",
        "import time"
      ],
      "execution_count": 2,
      "outputs": []
    },
    {
      "cell_type": "code",
      "metadata": {
        "id": "4G4rH8lSLeR8"
      },
      "source": [
        "# Keras & Tensorflow\n",
        "import keras\n",
        "import tensorflow as tf\n",
        "from keras import layers\n",
        "from keras.models import Model\n",
        "from keras.layers import Lambda, concatenate\n",
        "from tensorflow.keras.utils import to_categorical\n",
        "from keras.preprocessing.image import ImageDataGenerator\n",
        "from keras.models import Sequential\n",
        "from keras.layers import GlobalAveragePooling2D , Conv2D , MaxPooling2D\n",
        "from keras.layers import  Dropout , BatchNormalization , Dense\n",
        "from tensorflow.keras.optimizers import Adam\n",
        "from tensorflow.keras.applications import ResNet50\n",
        "from keras.callbacks import Callback , ReduceLROnPlateau , ModelCheckpoint\n",
        "from sklearn.metrics import cohen_kappa_score, accuracy_score\n",
        "from keras.losses import categorical_crossentropy as logloss\n",
        "from keras.metrics import categorical_accuracy"
      ],
      "execution_count": 3,
      "outputs": []
    },
    {
      "cell_type": "code",
      "metadata": {
        "colab": {
          "base_uri": "https://localhost:8080/"
        },
        "id": "x-AoT0TBLgRE",
        "outputId": "cc215a4e-5247-460f-ef86-4f224c392564"
      },
      "source": [
        "benign_train = np.load('/content/drive/MyDrive/CSE499/numpy/benign_train.npy')\n",
        "malign_train = np.load('/content/drive/MyDrive/CSE499/numpy/malign_train.npy')\n",
        "benign_test = np.load('/content/drive/MyDrive/CSE499/numpy/benign_test.npy')\n",
        "malign_test = np.load('/content/drive/MyDrive/CSE499/numpy/malign_test.npy')\n",
        "print('Done Loaded :)')"
      ],
      "execution_count": 4,
      "outputs": [
        {
          "output_type": "stream",
          "name": "stdout",
          "text": [
            "Done Loaded :)\n"
          ]
        }
      ]
    },
    {
      "cell_type": "code",
      "metadata": {
        "colab": {
          "base_uri": "https://localhost:8080/"
        },
        "id": "6rNSaj40LicQ",
        "outputId": "50ccdce5-e7ec-421b-9c7b-4d4a046ca3e5"
      },
      "source": [
        "#Shape of our dataset\n",
        "print(f'Benign Train:',benign_train.shape)\n",
        "print(f'Malignant Train',malign_train.shape)\n",
        "print(f'Benign Test:',benign_test.shape)\n",
        "print(f'Malignant Test',malign_test.shape)"
      ],
      "execution_count": 6,
      "outputs": [
        {
          "output_type": "stream",
          "name": "stdout",
          "text": [
            "Benign Train: (3500, 224, 224, 3)\n",
            "Malignant Train (3496, 224, 224, 3)\n",
            "Benign Test: (1500, 224, 224, 3)\n",
            "Malignant Test (1500, 224, 224, 3)\n"
          ]
        }
      ]
    },
    {
      "cell_type": "code",
      "metadata": {
        "id": "KXo2QXT-LkCj"
      },
      "source": [
        "benign_train_label = np.zeros(len(benign_train),dtype=float)\n",
        "malign_train_label = np.ones(len(malign_train),dtype=float)\n",
        "benign_test_label = np.zeros(len(benign_test),dtype=float)\n",
        "malign_test_label = np.ones(len(malign_test),dtype=float) \n",
        "\n",
        "X_train = np.concatenate((benign_train, malign_train), axis = 0)\n",
        "Y_train = np.concatenate((benign_train_label, malign_train_label), axis = 0)\n",
        "X_test = np.concatenate((benign_test, malign_test), axis = 0)\n",
        "Y_test = np.concatenate((benign_test_label, malign_test_label), axis = 0)\n",
        "\n",
        "s = np.arange(X_train.shape[0])\n",
        "np.random.shuffle(s)\n",
        "X_train = X_train[s]\n",
        "Y_train = Y_train[s]\n",
        "\n",
        "s = np.arange(X_test.shape[0])\n",
        "np.random.shuffle(s)\n",
        "X_test = X_test[s]\n",
        "Y_test = Y_test[s]\n",
        "\n",
        "Y_train = to_categorical(Y_train, num_classes= 2)\n",
        "Y_test = to_categorical(Y_test, num_classes= 2)"
      ],
      "execution_count": 7,
      "outputs": []
    },
    {
      "cell_type": "code",
      "metadata": {
        "colab": {
          "base_uri": "https://localhost:8080/"
        },
        "id": "gVofRsOcLoq0",
        "outputId": "7ee9d58d-e8e8-4828-90fc-7844b4a0ce58"
      },
      "source": [
        "print(f'X train shape:',X_train.shape)\n",
        "print(f'X test shape:',X_test.shape)\n",
        "print(f'Y train shape:',Y_train.shape)\n",
        "print(f'Y test shape:',Y_test.shape)"
      ],
      "execution_count": 8,
      "outputs": [
        {
          "output_type": "stream",
          "name": "stdout",
          "text": [
            "X train shape: (6996, 224, 224, 3)\n",
            "X test shape: (3000, 224, 224, 3)\n",
            "Y train shape: (6996, 2)\n",
            "Y test shape: (3000, 2)\n"
          ]
        }
      ]
    },
    {
      "cell_type": "code",
      "metadata": {
        "id": "91OcX9_-LrmV"
      },
      "source": [
        "x_train, x_val, y_train, y_val = train_test_split(X_train, Y_train, test_size=0.2, random_state=10)"
      ],
      "execution_count": 9,
      "outputs": []
    },
    {
      "cell_type": "code",
      "metadata": {
        "colab": {
          "base_uri": "https://localhost:8080/"
        },
        "id": "T6Pt3CXRLsMZ",
        "outputId": "1673fc65-6ca5-421b-be9a-0001ed3cb3d2"
      },
      "source": [
        "print(f'x train shape:',x_train.shape)\n",
        "print(f'x val shape:',x_val.shape)\n",
        "print(f'y train shape:',y_train.shape)\n",
        "print(f'y val shape:',y_val.shape)"
      ],
      "execution_count": 10,
      "outputs": [
        {
          "output_type": "stream",
          "name": "stdout",
          "text": [
            "x train shape: (5596, 224, 224, 3)\n",
            "x val shape: (1400, 224, 224, 3)\n",
            "y train shape: (5596, 2)\n",
            "y val shape: (1400, 2)\n"
          ]
        }
      ]
    },
    {
      "cell_type": "code",
      "metadata": {
        "colab": {
          "base_uri": "https://localhost:8080/"
        },
        "id": "L2TSazeKLypq",
        "outputId": "c4a10c28-4767-4375-a901-ced6709ad420"
      },
      "source": [
        "from tensorflow.keras.applications import VGG16\n",
        "\n",
        "def vgg16_model(backbone , lr = 1e-4):\n",
        "  modelvgg16 = Sequential()\n",
        "  modelvgg16.add(backbone)\n",
        "  modelvgg16.add(layers.GlobalAveragePooling2D())\n",
        "  modelvgg16.add(layers.Dropout(0.5))\n",
        "  modelvgg16.add(layers.BatchNormalization())\n",
        "  modelvgg16.add(layers.Dense(2 , activation='softmax'))\n",
        "  \n",
        "  modelvgg16.compile(\n",
        "        loss='categorical_crossentropy',\n",
        "        optimizer=Adam(learning_rate=lr),\n",
        "        metrics=['accuracy']\n",
        "    )\n",
        "    \n",
        "  return modelvgg16\n",
        "\n",
        "\n",
        "vgg16 = VGG16(\n",
        "    weights = 'imagenet',\n",
        "    include_top = False,\n",
        "    input_shape = (224 , 224 , 3)\n",
        ")\n",
        "# call the model \n",
        "modelvgg16 = vgg16_model(vgg16 , lr = 1e-4)\n",
        "modelvgg16.build((None, 224, 224, 3))\n",
        "modelvgg16.summary()"
      ],
      "execution_count": 11,
      "outputs": [
        {
          "output_type": "stream",
          "name": "stdout",
          "text": [
            "Downloading data from https://storage.googleapis.com/tensorflow/keras-applications/vgg16/vgg16_weights_tf_dim_ordering_tf_kernels_notop.h5\n",
            "58892288/58889256 [==============================] - 1s 0us/step\n",
            "58900480/58889256 [==============================] - 1s 0us/step\n",
            "Model: \"sequential\"\n",
            "_________________________________________________________________\n",
            " Layer (type)                Output Shape              Param #   \n",
            "=================================================================\n",
            " vgg16 (Functional)          (None, 7, 7, 512)         14714688  \n",
            "                                                                 \n",
            " global_average_pooling2d (G  (None, 512)              0         \n",
            " lobalAveragePooling2D)                                          \n",
            "                                                                 \n",
            " dropout (Dropout)           (None, 512)               0         \n",
            "                                                                 \n",
            " batch_normalization (BatchN  (None, 512)              2048      \n",
            " ormalization)                                                   \n",
            "                                                                 \n",
            " dense (Dense)               (None, 2)                 1026      \n",
            "                                                                 \n",
            "=================================================================\n",
            "Total params: 14,717,762\n",
            "Trainable params: 14,716,738\n",
            "Non-trainable params: 1,024\n",
            "_________________________________________________________________\n"
          ]
        }
      ]
    },
    {
      "cell_type": "code",
      "metadata": {
        "colab": {
          "base_uri": "https://localhost:8080/"
        },
        "id": "GVhUVJ4sL31I",
        "outputId": "eb000b00-8578-4663-e4af-13039631c62f"
      },
      "source": [
        "# Train the student model with MobileNet\n",
        "epochs = 20\n",
        "batch_size = 64\n",
        "student_his_vgg16 = modelvgg16.fit(x_train, y_train,\n",
        "          batch_size=batch_size,\n",
        "          epochs=epochs,\n",
        "          verbose=1,\n",
        "          validation_data=(x_val, y_val))"
      ],
      "execution_count": 12,
      "outputs": [
        {
          "output_type": "stream",
          "name": "stdout",
          "text": [
            "Epoch 1/20\n",
            "88/88 [==============================] - 242s 2s/step - loss: 0.2300 - accuracy: 0.9160 - val_loss: 0.1541 - val_accuracy: 0.9514\n",
            "Epoch 2/20\n",
            "88/88 [==============================] - 156s 2s/step - loss: 0.1743 - accuracy: 0.9375 - val_loss: 0.1305 - val_accuracy: 0.9521\n",
            "Epoch 3/20\n",
            "88/88 [==============================] - 156s 2s/step - loss: 0.1537 - accuracy: 0.9457 - val_loss: 0.1754 - val_accuracy: 0.9329\n",
            "Epoch 4/20\n",
            "88/88 [==============================] - 156s 2s/step - loss: 0.1421 - accuracy: 0.9475 - val_loss: 0.1568 - val_accuracy: 0.9514\n",
            "Epoch 5/20\n",
            "88/88 [==============================] - 156s 2s/step - loss: 0.1339 - accuracy: 0.9500 - val_loss: 0.1464 - val_accuracy: 0.9521\n",
            "Epoch 6/20\n",
            "88/88 [==============================] - 156s 2s/step - loss: 0.1467 - accuracy: 0.9455 - val_loss: 0.1193 - val_accuracy: 0.9593\n",
            "Epoch 7/20\n",
            "88/88 [==============================] - 156s 2s/step - loss: 0.1317 - accuracy: 0.9510 - val_loss: 0.1066 - val_accuracy: 0.9586\n",
            "Epoch 8/20\n",
            "88/88 [==============================] - 156s 2s/step - loss: 0.1200 - accuracy: 0.9543 - val_loss: 0.3662 - val_accuracy: 0.8121\n",
            "Epoch 9/20\n",
            "88/88 [==============================] - 156s 2s/step - loss: 0.1084 - accuracy: 0.9584 - val_loss: 0.1176 - val_accuracy: 0.9679\n",
            "Epoch 10/20\n",
            "88/88 [==============================] - 156s 2s/step - loss: 0.1132 - accuracy: 0.9551 - val_loss: 0.1531 - val_accuracy: 0.9436\n",
            "Epoch 11/20\n",
            "88/88 [==============================] - 156s 2s/step - loss: 0.0961 - accuracy: 0.9610 - val_loss: 0.1612 - val_accuracy: 0.9457\n",
            "Epoch 12/20\n",
            "88/88 [==============================] - 156s 2s/step - loss: 0.0860 - accuracy: 0.9657 - val_loss: 0.0909 - val_accuracy: 0.9714\n",
            "Epoch 13/20\n",
            "88/88 [==============================] - 156s 2s/step - loss: 0.0829 - accuracy: 0.9685 - val_loss: 0.1073 - val_accuracy: 0.9629\n",
            "Epoch 14/20\n",
            "88/88 [==============================] - 156s 2s/step - loss: 0.0690 - accuracy: 0.9732 - val_loss: 0.1115 - val_accuracy: 0.9636\n",
            "Epoch 15/20\n",
            "88/88 [==============================] - 156s 2s/step - loss: 0.0577 - accuracy: 0.9787 - val_loss: 0.1940 - val_accuracy: 0.9100\n",
            "Epoch 16/20\n",
            "88/88 [==============================] - 156s 2s/step - loss: 0.0768 - accuracy: 0.9723 - val_loss: 0.0905 - val_accuracy: 0.9693\n",
            "Epoch 17/20\n",
            "88/88 [==============================] - 156s 2s/step - loss: 0.0640 - accuracy: 0.9755 - val_loss: 0.1083 - val_accuracy: 0.9593\n",
            "Epoch 18/20\n",
            "88/88 [==============================] - 156s 2s/step - loss: 0.0610 - accuracy: 0.9766 - val_loss: 0.0809 - val_accuracy: 0.9736\n",
            "Epoch 19/20\n",
            "88/88 [==============================] - 156s 2s/step - loss: 0.0577 - accuracy: 0.9753 - val_loss: 0.1117 - val_accuracy: 0.9507\n",
            "Epoch 20/20\n",
            "88/88 [==============================] - 156s 2s/step - loss: 0.0458 - accuracy: 0.9825 - val_loss: 0.1351 - val_accuracy: 0.9443\n"
          ]
        }
      ]
    },
    {
      "cell_type": "code",
      "metadata": {
        "colab": {
          "base_uri": "https://localhost:8080/"
        },
        "id": "1S0HZuVAMGAk",
        "outputId": "af958753-1f0d-4456-a132-55e20a1cbeab"
      },
      "source": [
        "Y_val_pred = modelvgg16.predict(x_val)\n",
        "print(f'The VGG16 Accuracy on the Validation Set:',accuracy_score(np.argmax(y_val, axis=1), np.argmax(Y_val_pred, axis=1)))"
      ],
      "execution_count": 13,
      "outputs": [
        {
          "output_type": "stream",
          "name": "stdout",
          "text": [
            "The VGG16 Accuracy on the Validation Set: 0.9442857142857143\n"
          ]
        }
      ]
    },
    {
      "cell_type": "code",
      "metadata": {
        "colab": {
          "base_uri": "https://localhost:8080/"
        },
        "id": "QQ24flXyMLol",
        "outputId": "516f0b14-029c-4aa5-f8f8-abaa71306ba5"
      },
      "source": [
        "#Now let's check my Y_test values\n",
        "print(f'My Y_test values are:\\n' ,Y_test)"
      ],
      "execution_count": 14,
      "outputs": [
        {
          "output_type": "stream",
          "name": "stdout",
          "text": [
            "My Y_test values are:\n",
            " [[1. 0.]\n",
            " [0. 1.]\n",
            " [1. 0.]\n",
            " ...\n",
            " [1. 0.]\n",
            " [1. 0.]\n",
            " [0. 1.]]\n"
          ]
        }
      ]
    },
    {
      "cell_type": "code",
      "metadata": {
        "colab": {
          "base_uri": "https://localhost:8080/"
        },
        "id": "tCEFCJPOMNbG",
        "outputId": "239643fc-04c9-4e2e-840a-dc8d1960df8e"
      },
      "source": [
        "#Now let's check my predcited values from X_test dataset\t\n",
        "import timeit\n",
        "\n",
        "start = timeit.default_timer()\n",
        "#Your statements here\n",
        "y_pred = modelvgg16.predict(X_test)\n",
        "print(f'My predicted Y_test values are:\\n' ,y_pred)\n",
        "\n",
        "stop = timeit.default_timer()\n",
        "print('\\nTime: ',stop - start,'sec')"
      ],
      "execution_count": 15,
      "outputs": [
        {
          "output_type": "stream",
          "name": "stdout",
          "text": [
            "My predicted Y_test values are:\n",
            " [[9.99813616e-01 1.86449106e-04]\n",
            " [1.05976366e-01 8.94023657e-01]\n",
            " [9.97825503e-01 2.17447337e-03]\n",
            " ...\n",
            " [9.99116600e-01 8.83420405e-04]\n",
            " [9.99991059e-01 8.96148049e-06]\n",
            " [1.19898088e-01 8.80101919e-01]]\n",
            "\n",
            "Time:  22.8197354670001 sec\n"
          ]
        }
      ]
    },
    {
      "cell_type": "code",
      "metadata": {
        "colab": {
          "base_uri": "https://localhost:8080/"
        },
        "id": "HbnxslNnMPfe",
        "outputId": "37e31863-6fbf-4893-b197-fd0e59184f52"
      },
      "source": [
        "#Now let's check the accuracy between the original & predicted (Y_test , y_pred)\n",
        "print(f'My accuracy on Student model with VGG16 on the Test set is:',accuracy_score(np.argmax(Y_test, axis=1), np.argmax(y_pred, axis=1)))"
      ],
      "execution_count": 16,
      "outputs": [
        {
          "output_type": "stream",
          "name": "stdout",
          "text": [
            "My accuracy on Student model with VGG16 on the Test set is: 0.9793333333333333\n"
          ]
        }
      ]
    },
    {
      "cell_type": "code",
      "metadata": {
        "colab": {
          "base_uri": "https://localhost:8080/"
        },
        "id": "3QWzc76xMQvC",
        "outputId": "7bde6c9c-505c-4bd7-a5f3-727928b44096"
      },
      "source": [
        "# Print the classification report\n",
        "print(classification_report( np.argmax(Y_test, axis=1), np.argmax(y_pred, axis=1)))"
      ],
      "execution_count": 17,
      "outputs": [
        {
          "output_type": "stream",
          "name": "stdout",
          "text": [
            "              precision    recall  f1-score   support\n",
            "\n",
            "           0       0.96      1.00      0.98      1500\n",
            "           1       1.00      0.96      0.98      1500\n",
            "\n",
            "    accuracy                           0.98      3000\n",
            "   macro avg       0.98      0.98      0.98      3000\n",
            "weighted avg       0.98      0.98      0.98      3000\n",
            "\n"
          ]
        }
      ]
    }
  ]
}