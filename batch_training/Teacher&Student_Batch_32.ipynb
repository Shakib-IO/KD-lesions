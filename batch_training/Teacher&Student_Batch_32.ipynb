{
  "nbformat": 4,
  "nbformat_minor": 0,
  "metadata": {
    "colab": {
      "name": "Teacher&Student_Batch:32.ipynb",
      "provenance": [],
      "collapsed_sections": []
    },
    "kernelspec": {
      "name": "python3",
      "display_name": "Python 3"
    },
    "language_info": {
      "name": "python"
    },
    "accelerator": "GPU"
  },
  "cells": [
    {
      "cell_type": "code",
      "metadata": {
        "colab": {
          "base_uri": "https://localhost:8080/"
        },
        "id": "iwJzQrr6u_s9",
        "outputId": "7446c62d-cd40-4415-f09d-301c5aa0954e"
      },
      "source": [
        "from google.colab import drive\n",
        "drive.mount('/content/drive')"
      ],
      "execution_count": 1,
      "outputs": [
        {
          "output_type": "stream",
          "name": "stdout",
          "text": [
            "Mounted at /content/drive\n"
          ]
        }
      ]
    },
    {
      "cell_type": "code",
      "metadata": {
        "colab": {
          "base_uri": "https://localhost:8080/"
        },
        "id": "RCL8vmU8vOf_",
        "outputId": "3f5d3f19-721f-4c6d-ae77-1d5ca35b940c"
      },
      "source": [
        "!ls"
      ],
      "execution_count": 2,
      "outputs": [
        {
          "output_type": "stream",
          "name": "stdout",
          "text": [
            "drive  sample_data\n"
          ]
        }
      ]
    },
    {
      "cell_type": "code",
      "metadata": {
        "id": "1nQN1RamvUkt"
      },
      "source": [
        "import os\n",
        "import cv2\n",
        "from PIL import Image\n",
        "import numpy as np\n",
        "import scipy\n",
        "import pandas as pd\n",
        "import matplotlib.pyplot as plt\n",
        "plt.style.use('seaborn')\n",
        "\n",
        "from sklearn import metrics\n",
        "from sklearn.model_selection import train_test_split\n",
        "from sklearn.metrics import classification_report\n",
        "from tqdm import tqdm\n",
        "\n",
        "import time\n",
        "import timeit"
      ],
      "execution_count": 2,
      "outputs": []
    },
    {
      "cell_type": "code",
      "metadata": {
        "id": "c5LafAravWx_"
      },
      "source": [
        "import keras\n",
        "import tensorflow as tf\n",
        "from keras import layers\n",
        "from keras.models import Model\n",
        "from keras.layers import Lambda, concatenate\n",
        "from tensorflow.keras.utils import to_categorical\n",
        "from keras.preprocessing.image import ImageDataGenerator\n",
        "from keras.models import Sequential\n",
        "from keras.layers import GlobalAveragePooling2D , Conv2D , MaxPooling2D\n",
        "from keras.layers import  Dropout , BatchNormalization , Dense\n",
        "from tensorflow.keras.optimizers import Adam\n",
        "from tensorflow.keras.applications import ResNet50\n",
        "from keras.callbacks import Callback , ReduceLROnPlateau , ModelCheckpoint\n",
        "from sklearn.metrics import cohen_kappa_score, accuracy_score\n",
        "from keras.losses import categorical_crossentropy as logloss\n",
        "from keras.metrics import categorical_accuracy"
      ],
      "execution_count": 3,
      "outputs": []
    },
    {
      "cell_type": "code",
      "metadata": {
        "colab": {
          "base_uri": "https://localhost:8080/"
        },
        "id": "ygz1SKZKvYwR",
        "outputId": "081932b0-c95a-4d3c-84f7-bfa1504ce6f2"
      },
      "source": [
        "benign_train = np.load('/content/drive/MyDrive/CSE465/Dataset/benign_train.npy')\n",
        "malign_train = np.load('/content/drive/MyDrive/CSE465/Dataset/malign_train.npy')\n",
        "benign_test = np.load('/content/drive/MyDrive/CSE465/Dataset/benign_test.npy')\n",
        "malign_test = np.load('/content/drive/MyDrive/CSE465/Dataset/malign_test.npy')\n",
        "print('Done Loaded :)')"
      ],
      "execution_count": 4,
      "outputs": [
        {
          "output_type": "stream",
          "name": "stdout",
          "text": [
            "Done Loaded :)\n"
          ]
        }
      ]
    },
    {
      "cell_type": "code",
      "metadata": {
        "colab": {
          "base_uri": "https://localhost:8080/"
        },
        "id": "VLjanYKivaqF",
        "outputId": "90b31c6e-f3a5-4d8d-ec40-9f34d157370d"
      },
      "source": [
        "# Shape of our dataset\n",
        "print(f'Benign Train:',benign_train.shape)\n",
        "print(f'Malignant Train',malign_train.shape)\n",
        "print(f'Benign Test:',benign_test.shape)\n",
        "print(f'Malignant Test',malign_test.shape)"
      ],
      "execution_count": 5,
      "outputs": [
        {
          "output_type": "stream",
          "name": "stdout",
          "text": [
            "Benign Train: (3500, 224, 224, 3)\n",
            "Malignant Train (3496, 224, 224, 3)\n",
            "Benign Test: (1500, 224, 224, 3)\n",
            "Malignant Test (1500, 224, 224, 3)\n"
          ]
        }
      ]
    },
    {
      "cell_type": "markdown",
      "metadata": {
        "id": "5DNk8wRPZgFl"
      },
      "source": [
        "**Set to class 0 and class 1**"
      ]
    },
    {
      "cell_type": "code",
      "metadata": {
        "id": "IY14E6WpvjuZ"
      },
      "source": [
        "benign_train_label = np.zeros(len(benign_train),dtype=float)\n",
        "malign_train_label = np.ones(len(malign_train),dtype=float)\n",
        "benign_test_label = np.zeros(len(benign_test),dtype=float)\n",
        "malign_test_label = np.ones(len(malign_test),dtype=float) \n",
        "\n",
        "X_train = np.concatenate((benign_train, malign_train), axis = 0)\n",
        "Y_train = np.concatenate((benign_train_label, malign_train_label), axis = 0)\n",
        "X_test = np.concatenate((benign_test, malign_test), axis = 0)\n",
        "Y_test = np.concatenate((benign_test_label, malign_test_label), axis = 0)\n",
        "\n",
        "s = np.arange(X_train.shape[0])\n",
        "np.random.shuffle(s)\n",
        "X_train = X_train[s]\n",
        "Y_train = Y_train[s]\n",
        "\n",
        "s = np.arange(X_test.shape[0])\n",
        "np.random.shuffle(s)\n",
        "X_test = X_test[s]\n",
        "Y_test = Y_test[s]\n",
        "\n",
        "Y_train = to_categorical(Y_train, num_classes= 2)\n",
        "Y_test = to_categorical(Y_test, num_classes= 2)"
      ],
      "execution_count": 6,
      "outputs": []
    },
    {
      "cell_type": "code",
      "metadata": {
        "colab": {
          "base_uri": "https://localhost:8080/"
        },
        "id": "HMPa7P1XfuuN",
        "outputId": "a799c3f0-9353-4136-8987-ddf8377276da"
      },
      "source": [
        "print(f'X train shape:',X_train.shape)\n",
        "print(f'X test shape:',X_test.shape)\n",
        "print(f'Y train shape:',Y_train.shape)\n",
        "print(f'Y test shape:',Y_test.shape)"
      ],
      "execution_count": 7,
      "outputs": [
        {
          "output_type": "stream",
          "name": "stdout",
          "text": [
            "X train shape: (6996, 224, 224, 3)\n",
            "X test shape: (3000, 224, 224, 3)\n",
            "Y train shape: (6996, 2)\n",
            "Y test shape: (3000, 2)\n"
          ]
        }
      ]
    },
    {
      "cell_type": "markdown",
      "metadata": {
        "id": "18-dtZkWZfTc"
      },
      "source": [
        "**Split**"
      ]
    },
    {
      "cell_type": "code",
      "metadata": {
        "id": "ZUpq1QB1vl-j"
      },
      "source": [
        "x_train, x_val, y_train, y_val = train_test_split(X_train, Y_train, test_size=0.2, random_state=10)"
      ],
      "execution_count": 8,
      "outputs": []
    },
    {
      "cell_type": "code",
      "metadata": {
        "colab": {
          "base_uri": "https://localhost:8080/"
        },
        "id": "DyL-RqBfvnfm",
        "outputId": "7fe0727b-5710-4677-ada0-095c619f6fba"
      },
      "source": [
        "print(f'x train shape:',x_train.shape)\n",
        "print(f'x val shape:',x_val.shape)\n",
        "print(f'y train shape:',y_train.shape)\n",
        "print(f'y val shape:',y_val.shape)"
      ],
      "execution_count": 9,
      "outputs": [
        {
          "output_type": "stream",
          "name": "stdout",
          "text": [
            "x train shape: (5596, 224, 224, 3)\n",
            "x val shape: (1400, 224, 224, 3)\n",
            "y train shape: (5596, 2)\n",
            "y val shape: (1400, 2)\n"
          ]
        }
      ]
    },
    {
      "cell_type": "code",
      "metadata": {
        "colab": {
          "base_uri": "https://localhost:8080/"
        },
        "id": "o3O5-mfAvpmL",
        "outputId": "a0d58bfa-2ebc-470e-a723-8e41cb3db587"
      },
      "source": [
        "# Teacher model with ResNet50\n",
        "def build_model(backbone , lr = 1e-4):\n",
        "  model = Sequential()\n",
        "  model.add(backbone)\n",
        "  model.add(layers.GlobalAveragePooling2D())\n",
        "  model.add(layers.Dropout(0.5))\n",
        "  model.add(layers.BatchNormalization())\n",
        "  model.add(layers.Dense(2 , activation='softmax'))\n",
        "  \n",
        "  model.compile(\n",
        "        loss='categorical_crossentropy',\n",
        "        optimizer=Adam(learning_rate=1e-4),\n",
        "        metrics=['accuracy']\n",
        "    )\n",
        "    \n",
        "  return model\n",
        "\n",
        "resnet = ResNet50(\n",
        "    weights = 'imagenet',\n",
        "    include_top = False,\n",
        "    input_shape = (224 , 224 , 3)\n",
        ")\n",
        "# call the model \n",
        "model = build_model(resnet , lr = 1e-4)\n",
        "model.build((None, 224, 224, 3))\n",
        "model.summary()"
      ],
      "execution_count": 10,
      "outputs": [
        {
          "output_type": "stream",
          "name": "stdout",
          "text": [
            "Downloading data from https://storage.googleapis.com/tensorflow/keras-applications/resnet/resnet50_weights_tf_dim_ordering_tf_kernels_notop.h5\n",
            "94773248/94765736 [==============================] - 1s 0us/step\n",
            "94781440/94765736 [==============================] - 1s 0us/step\n",
            "Model: \"sequential\"\n",
            "_________________________________________________________________\n",
            " Layer (type)                Output Shape              Param #   \n",
            "=================================================================\n",
            " resnet50 (Functional)       (None, 7, 7, 2048)        23587712  \n",
            "                                                                 \n",
            " global_average_pooling2d (G  (None, 2048)             0         \n",
            " lobalAveragePooling2D)                                          \n",
            "                                                                 \n",
            " dropout (Dropout)           (None, 2048)              0         \n",
            "                                                                 \n",
            " batch_normalization (BatchN  (None, 2048)             8192      \n",
            " ormalization)                                                   \n",
            "                                                                 \n",
            " dense (Dense)               (None, 2)                 4098      \n",
            "                                                                 \n",
            "=================================================================\n",
            "Total params: 23,600,002\n",
            "Trainable params: 23,542,786\n",
            "Non-trainable params: 57,216\n",
            "_________________________________________________________________\n"
          ]
        }
      ]
    },
    {
      "cell_type": "code",
      "metadata": {
        "id": "_NzK9jN7i6yP"
      },
      "source": [
        "learn_control = ReduceLROnPlateau(monitor='val_acc', patience=5,verbose=1,factor=0.2, min_lr=1e-4)\n",
        "filepath=\"ResNet50weights.best.hdf5\"\n",
        "checkpoint = ModelCheckpoint(filepath, monitor='val_acc', verbose=1, save_best_only=True, mode='max')"
      ],
      "execution_count": 11,
      "outputs": []
    },
    {
      "cell_type": "code",
      "metadata": {
        "colab": {
          "base_uri": "https://localhost:8080/"
        },
        "id": "PVroJarTwWl6",
        "outputId": "ac50042a-ec4c-4b66-fa3f-5b96ddb678bf"
      },
      "source": [
        "# Training the teacher model with Resnet50\n",
        "# Train the teacher model as usual\n",
        "# Configuration\n",
        "import time\n",
        "epochs = 10 \n",
        "batch_size = 32\n",
        "\n",
        "# Calculate the starting time    \n",
        "start_time = time.time()\n",
        "\n",
        "teacher_his = model.fit(x_train, y_train,\n",
        "            batch_size=batch_size,\n",
        "            epochs=epochs,\n",
        "            verbose=1,\n",
        "            validation_data=(x_val, y_val),\n",
        "            callbacks=[learn_control, checkpoint])\n",
        "\n",
        "\n",
        "end_time = time.time()\n",
        "print(\"--- Time taken to train : %s seconds ---\" % ((end_time - start_time)))"
      ],
      "execution_count": 12,
      "outputs": [
        {
          "output_type": "stream",
          "name": "stdout",
          "text": [
            "Epoch 1/10\n",
            "175/175 [==============================] - ETA: 0s - loss: 0.2007 - accuracy: 0.9260WARNING:tensorflow:Learning rate reduction is conditioned on metric `val_acc` which is not available. Available metrics are: loss,accuracy,val_loss,val_accuracy,lr\n",
            "WARNING:tensorflow:Can save best model only with val_acc available, skipping.\n",
            "175/175 [==============================] - 80s 351ms/step - loss: 0.2007 - accuracy: 0.9260 - val_loss: 0.1071 - val_accuracy: 0.9593 - lr: 1.0000e-04\n",
            "Epoch 2/10\n",
            "175/175 [==============================] - ETA: 0s - loss: 0.0855 - accuracy: 0.9677WARNING:tensorflow:Learning rate reduction is conditioned on metric `val_acc` which is not available. Available metrics are: loss,accuracy,val_loss,val_accuracy,lr\n",
            "WARNING:tensorflow:Can save best model only with val_acc available, skipping.\n",
            "175/175 [==============================] - 59s 339ms/step - loss: 0.0855 - accuracy: 0.9677 - val_loss: 0.1179 - val_accuracy: 0.9607 - lr: 1.0000e-04\n",
            "Epoch 3/10\n",
            "175/175 [==============================] - ETA: 0s - loss: 0.0601 - accuracy: 0.9766WARNING:tensorflow:Learning rate reduction is conditioned on metric `val_acc` which is not available. Available metrics are: loss,accuracy,val_loss,val_accuracy,lr\n",
            "WARNING:tensorflow:Can save best model only with val_acc available, skipping.\n",
            "175/175 [==============================] - 59s 337ms/step - loss: 0.0601 - accuracy: 0.9766 - val_loss: 0.1037 - val_accuracy: 0.9707 - lr: 1.0000e-04\n",
            "Epoch 4/10\n",
            "175/175 [==============================] - ETA: 0s - loss: 0.0383 - accuracy: 0.9853WARNING:tensorflow:Learning rate reduction is conditioned on metric `val_acc` which is not available. Available metrics are: loss,accuracy,val_loss,val_accuracy,lr\n",
            "WARNING:tensorflow:Can save best model only with val_acc available, skipping.\n",
            "175/175 [==============================] - 59s 338ms/step - loss: 0.0383 - accuracy: 0.9853 - val_loss: 0.1082 - val_accuracy: 0.9636 - lr: 1.0000e-04\n",
            "Epoch 5/10\n",
            "175/175 [==============================] - ETA: 0s - loss: 0.0329 - accuracy: 0.9889WARNING:tensorflow:Learning rate reduction is conditioned on metric `val_acc` which is not available. Available metrics are: loss,accuracy,val_loss,val_accuracy,lr\n",
            "WARNING:tensorflow:Can save best model only with val_acc available, skipping.\n",
            "175/175 [==============================] - 59s 338ms/step - loss: 0.0329 - accuracy: 0.9889 - val_loss: 0.1297 - val_accuracy: 0.9671 - lr: 1.0000e-04\n",
            "Epoch 6/10\n",
            "175/175 [==============================] - ETA: 0s - loss: 0.0434 - accuracy: 0.9855WARNING:tensorflow:Learning rate reduction is conditioned on metric `val_acc` which is not available. Available metrics are: loss,accuracy,val_loss,val_accuracy,lr\n",
            "WARNING:tensorflow:Can save best model only with val_acc available, skipping.\n",
            "175/175 [==============================] - 59s 339ms/step - loss: 0.0434 - accuracy: 0.9855 - val_loss: 0.1403 - val_accuracy: 0.9679 - lr: 1.0000e-04\n",
            "Epoch 7/10\n",
            "175/175 [==============================] - ETA: 0s - loss: 0.0169 - accuracy: 0.9936WARNING:tensorflow:Learning rate reduction is conditioned on metric `val_acc` which is not available. Available metrics are: loss,accuracy,val_loss,val_accuracy,lr\n",
            "WARNING:tensorflow:Can save best model only with val_acc available, skipping.\n",
            "175/175 [==============================] - 59s 339ms/step - loss: 0.0169 - accuracy: 0.9936 - val_loss: 0.1252 - val_accuracy: 0.9571 - lr: 1.0000e-04\n",
            "Epoch 8/10\n",
            "175/175 [==============================] - ETA: 0s - loss: 0.0166 - accuracy: 0.9937WARNING:tensorflow:Learning rate reduction is conditioned on metric `val_acc` which is not available. Available metrics are: loss,accuracy,val_loss,val_accuracy,lr\n",
            "WARNING:tensorflow:Can save best model only with val_acc available, skipping.\n",
            "175/175 [==============================] - 59s 338ms/step - loss: 0.0166 - accuracy: 0.9937 - val_loss: 0.1614 - val_accuracy: 0.9493 - lr: 1.0000e-04\n",
            "Epoch 9/10\n",
            "175/175 [==============================] - ETA: 0s - loss: 0.0147 - accuracy: 0.9955WARNING:tensorflow:Learning rate reduction is conditioned on metric `val_acc` which is not available. Available metrics are: loss,accuracy,val_loss,val_accuracy,lr\n",
            "WARNING:tensorflow:Can save best model only with val_acc available, skipping.\n",
            "175/175 [==============================] - 59s 338ms/step - loss: 0.0147 - accuracy: 0.9955 - val_loss: 0.1324 - val_accuracy: 0.9643 - lr: 1.0000e-04\n",
            "Epoch 10/10\n",
            "175/175 [==============================] - ETA: 0s - loss: 0.0125 - accuracy: 0.9968WARNING:tensorflow:Learning rate reduction is conditioned on metric `val_acc` which is not available. Available metrics are: loss,accuracy,val_loss,val_accuracy,lr\n",
            "WARNING:tensorflow:Can save best model only with val_acc available, skipping.\n",
            "175/175 [==============================] - 60s 345ms/step - loss: 0.0125 - accuracy: 0.9968 - val_loss: 0.1330 - val_accuracy: 0.9650 - lr: 1.0000e-04\n",
            "--- Time taken to train : 629.1472387313843 seconds ---\n"
          ]
        }
      ]
    },
    {
      "cell_type": "code",
      "metadata": {
        "colab": {
          "base_uri": "https://localhost:8080/"
        },
        "id": "pWGepXgSjynR",
        "outputId": "4f1f321d-da1d-4054-b2ec-e9ad868ac83b"
      },
      "source": [
        "model.save_weights(\"ResNet50_model.h5\") #using h5 extension\n",
        "print(\"model saved!!!\")"
      ],
      "execution_count": 13,
      "outputs": [
        {
          "output_type": "stream",
          "name": "stdout",
          "text": [
            "model saved!!!\n"
          ]
        }
      ]
    },
    {
      "cell_type": "code",
      "metadata": {
        "id": "CDJo_3UBzsCf"
      },
      "source": [
        "#https://machinelearningmastery.com/display-deep-learning-model-training-history-in-keras/\n",
        "# summarize history for accuracy\n",
        "plt.plot(teacher_his.history['accuracy'],)\n",
        "plt.plot(teacher_his.history['val_accuracy'])\n",
        "plt.title('model accuracy')\n",
        "plt.ylabel('accuracy')\n",
        "plt.xlabel('epoch')\n",
        "plt.legend(['train', 'val'], loc='lower right')\n",
        "plt.show()"
      ],
      "execution_count": null,
      "outputs": []
    },
    {
      "cell_type": "code",
      "metadata": {
        "id": "J-QHDbz1zv6E"
      },
      "source": [
        "#https://machinelearningmastery.com/display-deep-learning-model-training-history-in-keras/\n",
        "# summarize history for accuracy\n",
        "plt.plot(teacher_his.history['loss'])\n",
        "plt.plot(teacher_his.history['val_loss'])\n",
        "plt.title('model Loss')\n",
        "plt.ylabel('Loss')\n",
        "plt.xlabel('epoch')\n",
        "plt.legend(['train', 'val'], loc='lower left')\n",
        "plt.show()"
      ],
      "execution_count": null,
      "outputs": []
    },
    {
      "cell_type": "code",
      "metadata": {
        "colab": {
          "base_uri": "https://localhost:8080/"
        },
        "id": "e9C50c_0zzjJ",
        "outputId": "d221a472-3f61-428e-95e7-c5e12d346921"
      },
      "source": [
        "Y_val_pred = model.predict(x_val)\n",
        "print(f'The Teacher model Accuracy on the Validation Set:',accuracy_score(np.argmax(y_val, axis=1), np.argmax(Y_val_pred, axis=1)))"
      ],
      "execution_count": 14,
      "outputs": [
        {
          "output_type": "stream",
          "name": "stdout",
          "text": [
            "The Teacher model Accuracy on the Validation Set: 0.965\n"
          ]
        }
      ]
    },
    {
      "cell_type": "code",
      "metadata": {
        "colab": {
          "base_uri": "https://localhost:8080/"
        },
        "id": "4ybwvuF9z0Nf",
        "outputId": "8b9ee56c-4872-42cd-b7fb-7d504e5556aa"
      },
      "source": [
        "#Now let's check my Y_test values\n",
        "print(f'My Y_test values are:\\n' ,Y_test)"
      ],
      "execution_count": 15,
      "outputs": [
        {
          "output_type": "stream",
          "name": "stdout",
          "text": [
            "My Y_test values are:\n",
            " [[1. 0.]\n",
            " [0. 1.]\n",
            " [0. 1.]\n",
            " ...\n",
            " [1. 0.]\n",
            " [0. 1.]\n",
            " [1. 0.]]\n"
          ]
        }
      ]
    },
    {
      "cell_type": "code",
      "metadata": {
        "colab": {
          "base_uri": "https://localhost:8080/"
        },
        "id": "xc8YoU-Hz6D3",
        "outputId": "f323c733-19a1-42e7-ba54-3a58438a1559"
      },
      "source": [
        "#Now let's check my predcited values from X_test dataset\t\n",
        "# And calculate the y_pred with time\n",
        "import timeit\n",
        "\n",
        "start = timeit.default_timer()\n",
        "#Your statements here\n",
        "y_pred = model.predict(X_test)\n",
        "print(f'My predicted Y_test values are:\\n' ,y_pred)\n",
        "\n",
        "stop = timeit.default_timer()\n",
        "print('\\nTime: ',stop - start,'sec')"
      ],
      "execution_count": 16,
      "outputs": [
        {
          "output_type": "stream",
          "name": "stdout",
          "text": [
            "My predicted Y_test values are:\n",
            " [[9.9999833e-01 1.7209694e-06]\n",
            " [2.2895895e-12 1.0000000e+00]\n",
            " [3.7687351e-03 9.9623126e-01]\n",
            " ...\n",
            " [9.9965656e-01 3.4349351e-04]\n",
            " [1.8340093e-03 9.9816602e-01]\n",
            " [9.9998307e-01 1.6966369e-05]]\n",
            "\n",
            "Time:  8.889215868000065 sec\n"
          ]
        }
      ]
    },
    {
      "cell_type": "code",
      "metadata": {
        "colab": {
          "base_uri": "https://localhost:8080/"
        },
        "id": "aDvD1tKvmzup",
        "outputId": "f8b68a12-aa1f-4d5a-e5ae-0c6c50a1efcf"
      },
      "source": [
        "start = timeit.default_timer()\n",
        "#Your statements here\n",
        "\n",
        "#Now let's check the accuracy between the original & predicted (Y_test , y_pred)\n",
        "print(f'My accuracy on Teacher model with ResNet50 on the Test set is:',accuracy_score(np.argmax(Y_test, axis=1), np.argmax(y_pred, axis=1)))\n",
        "\n",
        "stop = timeit.default_timer()\n",
        "print('\\nTime: ',stop - start,'sec')"
      ],
      "execution_count": 17,
      "outputs": [
        {
          "output_type": "stream",
          "name": "stdout",
          "text": [
            "My accuracy on Teacher model with ResNet50 on the Test set is: 0.9783333333333334\n",
            "\n",
            "Time:  0.0016479199999821503 sec\n"
          ]
        }
      ]
    },
    {
      "cell_type": "code",
      "metadata": {
        "colab": {
          "base_uri": "https://localhost:8080/"
        },
        "id": "Wy97eTzunYLp",
        "outputId": "2e67d17f-4afd-410a-c38c-4cf325e8dbda"
      },
      "source": [
        "# Classification_report\n",
        "print(f'Classification Report of Resnet50:\\n',classification_report(np.argmax(Y_test, axis=1), np.argmax(y_pred, axis=1)))"
      ],
      "execution_count": 18,
      "outputs": [
        {
          "output_type": "stream",
          "name": "stdout",
          "text": [
            "Classification Report of Resnet50:\n",
            "               precision    recall  f1-score   support\n",
            "\n",
            "           0       0.97      0.99      0.98      1500\n",
            "           1       0.99      0.96      0.98      1500\n",
            "\n",
            "    accuracy                           0.98      3000\n",
            "   macro avg       0.98      0.98      0.98      3000\n",
            "weighted avg       0.98      0.98      0.98      3000\n",
            "\n"
          ]
        }
      ]
    },
    {
      "cell_type": "markdown",
      "metadata": {
        "id": "W5TaVx7prspE"
      },
      "source": [
        "**AUC ROC**"
      ]
    },
    {
      "cell_type": "code",
      "metadata": {
        "colab": {
          "base_uri": "https://localhost:8080/",
          "height": 409
        },
        "id": "gedmLVmMrsWF",
        "outputId": "b13634f4-5119-4e1e-c8d9-e61921909c18"
      },
      "source": [
        "# https://scikit-learn.org/stable/auto_examples/model_selection/plot_roc.html\n",
        "\n",
        "from sklearn.metrics import roc_curve, auc\n",
        "from numpy import interp\n",
        "from itertools import cycle\n",
        "\n",
        "num_of_classes = y_train.shape[1]\n",
        "print(f'Auc Curve on Validation:\\n')\n",
        "\n",
        "\n",
        "# Compute ROC curve and ROC area for each class\n",
        "fpr = dict()\n",
        "tpr = dict()\n",
        "roc_auc = dict()\n",
        "\n",
        "for i in range(num_of_classes):\n",
        "    fpr[i], tpr[i], _ = roc_curve(y_val[:, i], Y_val_pred[:, i])\n",
        "    roc_auc[i] = auc(fpr[i], tpr[i])\n",
        "\n",
        "# Compute micro-average ROC curve and ROC area\n",
        "fpr[\"micro\"], tpr[\"micro\"], _ = roc_curve(y_val.ravel(), Y_val_pred.ravel())\n",
        "roc_auc[\"micro\"] = auc(fpr[\"micro\"], tpr[\"micro\"])\n",
        "\n",
        "\n",
        "lw = 3\n",
        "# Plot all ROC curves\n",
        "\n",
        "colors = cycle(['blue', 'orange', 'cornflowerblue'])\n",
        "for i, color in zip(range(num_of_classes), colors):\n",
        "    plt.plot(fpr[i],tpr[i], color=color, lw=lw,\n",
        "             label='ROC curve of class {0} (area = {1:0.2f})'\n",
        "             ''.format(i, roc_auc[i]))\n",
        "    \n",
        "plt.style.use('ggplot')\n",
        "plt.plot([0, 1], [0, 1], 'k--', lw=lw)\n",
        "plt.xlim([0.0, 1.0])\n",
        "plt.ylim([0.0, 1.05])\n",
        "plt.xlabel('False Positive Rate')\n",
        "plt.ylabel('True Positive Rate')\n",
        "plt.title('Some extension of Receiver operating characteristic to multi-class')\n",
        "plt.legend(loc=\"lower right\")\n",
        "plt.show()"
      ],
      "execution_count": null,
      "outputs": [
        {
          "output_type": "stream",
          "text": [
            "Auc Curve on Validation:\n",
            "\n"
          ],
          "name": "stdout"
        },
        {
          "output_type": "display_data",
          "data": {
            "image/png": "[encoded data removed]",
            "text/plain": [
              "<Figure size 576x396 with 1 Axes>"
            ]
          },
          "metadata": {
            "tags": []
          }
        }
      ]
    },
    {
      "cell_type": "code",
      "metadata": {
        "id": "SrqGDS-WpM0c"
      },
      "source": [
        "# https://scikit-learn.org/stable/auto_examples/model_selection/plot_roc.html\n",
        "\n",
        "from sklearn.metrics import roc_curve, auc\n",
        "from numpy import interp\n",
        "from itertools import cycle\n",
        "\n",
        "num_of_classes = y_train.shape[1]\n",
        "print(f'Auc Curve on Test set:\\n')\n",
        "\n",
        "\n",
        "# Compute ROC curve and ROC area for each class\n",
        "fpr = dict()\n",
        "tpr = dict()\n",
        "roc_auc = dict()\n",
        "\n",
        "for i in range(num_of_classes):\n",
        "    fpr[i], tpr[i], _ = roc_curve(Y_test[:, i], y_pred[:, i])\n",
        "    roc_auc[i] = auc(fpr[i], tpr[i])\n",
        "\n",
        "# Compute micro-average ROC curve and ROC area\n",
        "fpr[\"micro\"], tpr[\"micro\"], _ = roc_curve(Y_test.ravel(), y_pred.ravel())\n",
        "roc_auc[\"micro\"] = auc(fpr[\"micro\"], tpr[\"micro\"])\n",
        "\n",
        "\n",
        "lw = 3\n",
        "# Plot all ROC curves\n",
        "\n",
        "colors = cycle(['blue', 'orange', 'cornflowerblue'])\n",
        "for i, color in zip(range(num_of_classes), colors):\n",
        "    plt.plot(fpr[i],tpr[i], color=color, lw=lw,\n",
        "             label='ROC curve of class {0} (area = {1:0.2f})'\n",
        "             ''.format(i, roc_auc[i]))\n",
        "    \n",
        "plt.style.use('ggplot')\n",
        "plt.plot([0, 1], [0, 1], 'k--', lw=lw)\n",
        "plt.xlim([0.0, 1.0])\n",
        "plt.ylim([0.0, 1.05])\n",
        "\n",
        "plt.xlabel('False Positive Rate')\n",
        "plt.ylabel('True Positive Rate')\n",
        "plt.title('Some extension of Receiver operating characteristic to multi-class')\n",
        "plt.legend(loc=\"lower right\")\n",
        "plt.show()"
      ],
      "execution_count": null,
      "outputs": []
    },
    {
      "cell_type": "markdown",
      "metadata": {
        "id": "W1EPv8aFnYos"
      },
      "source": [
        "**Student Model**"
      ]
    },
    {
      "cell_type": "code",
      "metadata": {
        "colab": {
          "base_uri": "https://localhost:8080/"
        },
        "id": "sgVqzo_jvs9x",
        "outputId": "20ab5f63-6759-4327-aa67-26441623e744"
      },
      "source": [
        "# Define the student model\n",
        "# Student model that is stand-alone. We will evaluate its accuracy compared to a teacher trained student model\n",
        "# Hyperparameters\n",
        "input_shape = (224, 224, 3) # Input shape of each image\n",
        "nb_classes = 2 \n",
        "\n",
        "customstudent = Sequential()\n",
        "customstudent.add(Conv2D(128, kernel_size=(3, 3),activation='relu', input_shape=input_shape))\n",
        "customstudent.add(MaxPooling2D(pool_size=(2, 2)))\n",
        "customstudent.add(Conv2D(64, (3, 3), activation='relu'))\n",
        "customstudent.add(MaxPooling2D(pool_size=(2, 2)))\n",
        "customstudent.add(Conv2D(32, (3, 3), activation='relu'))\n",
        "customstudent.add(Dropout(0.25)) # For reguralization\n",
        "\n",
        "customstudent.add(layers.Flatten())\n",
        "\n",
        "customstudent.add(layers.Dense(nb_classes))\n",
        "customstudent.add(layers.Activation('softmax')) # Note that we add a normal softmax layer to begin with\n",
        "\n",
        "\n",
        "customstudent.compile(loss='categorical_crossentropy',\n",
        "              optimizer='adadelta',\n",
        "              metrics=['accuracy'])\n",
        "\n",
        "print(customstudent.summary())"
      ],
      "execution_count": 19,
      "outputs": [
        {
          "output_type": "stream",
          "name": "stdout",
          "text": [
            "Model: \"sequential_1\"\n",
            "_________________________________________________________________\n",
            " Layer (type)                Output Shape              Param #   \n",
            "=================================================================\n",
            " conv2d (Conv2D)             (None, 222, 222, 128)     3584      \n",
            "                                                                 \n",
            " max_pooling2d (MaxPooling2D  (None, 111, 111, 128)    0         \n",
            " )                                                               \n",
            "                                                                 \n",
            " conv2d_1 (Conv2D)           (None, 109, 109, 64)      73792     \n",
            "                                                                 \n",
            " max_pooling2d_1 (MaxPooling  (None, 54, 54, 64)       0         \n",
            " 2D)                                                             \n",
            "                                                                 \n",
            " conv2d_2 (Conv2D)           (None, 52, 52, 32)        18464     \n",
            "                                                                 \n",
            " dropout_1 (Dropout)         (None, 52, 52, 32)        0         \n",
            "                                                                 \n",
            " flatten (Flatten)           (None, 86528)             0         \n",
            "                                                                 \n",
            " dense_1 (Dense)             (None, 2)                 173058    \n",
            "                                                                 \n",
            " activation (Activation)     (None, 2)                 0         \n",
            "                                                                 \n",
            "=================================================================\n",
            "Total params: 268,898\n",
            "Trainable params: 268,898\n",
            "Non-trainable params: 0\n",
            "_________________________________________________________________\n",
            "None\n"
          ]
        }
      ]
    },
    {
      "cell_type": "code",
      "metadata": {
        "id": "uH990HN_0Ovn"
      },
      "source": [
        "# Define a new model that outputs only teacher logits\n",
        "# Raise the temperature of teacher model and gather the soft targets\n",
        "\n",
        "# Collect the logits from the previous layer output and store it in a different model\n",
        "teacher_WO_Softmax = Model(model.input, model.get_layer('dense').output)"
      ],
      "execution_count": 20,
      "outputs": []
    },
    {
      "cell_type": "code",
      "metadata": {
        "id": "jKo9WI4Y0WWh"
      },
      "source": [
        "# Define a manual softmax function\n",
        "def softmax(x):\n",
        "    return np.exp(x)/(np.exp(x).sum())"
      ],
      "execution_count": 21,
      "outputs": []
    },
    {
      "cell_type": "code",
      "metadata": {
        "colab": {
          "base_uri": "https://localhost:8080/"
        },
        "id": "O0xHXnJD0YXu",
        "outputId": "0728a0cb-3ebe-4c86-ea6f-2733a6981844"
      },
      "source": [
        "# Prepare the soft targets and the target data for student to be trained upon\n",
        "# From our temperature experiment we get temp = 10 is gave is best results\n",
        "temp = 10\n",
        "# This model directly gives the logits ( see the teacher_WO_softmax model above)\n",
        "teacher_train_logits = teacher_WO_Softmax.predict(x_train)\n",
        "teacher_test_logits = teacher_WO_Softmax.predict(x_val) \n",
        "\n",
        "# Perform a manual softmax at raised temperature\n",
        "train_logits_T = teacher_train_logits/ temp # temp = 10\n",
        "test_logits_T = teacher_test_logits / temp \n",
        "\n",
        "Y_train_soft = softmax(train_logits_T)\n",
        "Y_test_soft = softmax(test_logits_T)\n",
        "\n",
        "# Concatenate \n",
        "Y_train_new = np.concatenate([y_train, Y_train_soft], axis=1)\n",
        "Y_test_new =  np.concatenate([y_val, Y_test_soft], axis =1)\n",
        "\n",
        "#Print the Shape \n",
        "print(train_logits_T.shape)\n",
        "print(test_logits_T.shape)\n",
        "print(Y_train_new.shape)\n",
        "print(Y_test_new.shape)"
      ],
      "execution_count": 22,
      "outputs": [
        {
          "output_type": "stream",
          "name": "stdout",
          "text": [
            "(5596, 2)\n",
            "(1400, 2)\n",
            "(5596, 4)\n",
            "(1400, 4)\n"
          ]
        }
      ]
    },
    {
      "cell_type": "code",
      "metadata": {
        "colab": {
          "base_uri": "https://localhost:8080/"
        },
        "id": "2UEnZ3Ya0bko",
        "outputId": "515e602b-10c7-4c69-9af1-c263cfcaa61c"
      },
      "source": [
        "# Prepare the student model that outputs probabilities with and without temperature\n",
        "# Remove the softmax layer from the student network\n",
        "temp = 10\n",
        "customstudent.layers.pop()\n",
        "\n",
        "# Now collect the logits from the last layer\n",
        "# This is going to be a tensor. And hence it needs to pass through a Activation layer\n",
        "logits = customstudent.layers[-1].output \n",
        "probs = layers.Activation('softmax')(logits)\n",
        "\n",
        "\n",
        "# softed probabilities at raised temperature\n",
        "logits_T = Lambda(lambda x: x / temp)(logits)\n",
        "probs_T = layers.Activation('softmax')(logits_T)\n",
        "\n",
        "output = concatenate([probs, probs_T])\n",
        "\n",
        "# This is our new student model \n",
        "customstudent = Model(customstudent.input, output)\n",
        "\n",
        "customstudent.summary()"
      ],
      "execution_count": 23,
      "outputs": [
        {
          "output_type": "stream",
          "name": "stdout",
          "text": [
            "Model: \"model_1\"\n",
            "__________________________________________________________________________________________________\n",
            " Layer (type)                   Output Shape         Param #     Connected to                     \n",
            "==================================================================================================\n",
            " conv2d_input (InputLayer)      [(None, 224, 224, 3  0           []                               \n",
            "                                )]                                                                \n",
            "                                                                                                  \n",
            " conv2d (Conv2D)                (None, 222, 222, 12  3584        ['conv2d_input[0][0]']           \n",
            "                                8)                                                                \n",
            "                                                                                                  \n",
            " max_pooling2d (MaxPooling2D)   (None, 111, 111, 12  0           ['conv2d[0][0]']                 \n",
            "                                8)                                                                \n",
            "                                                                                                  \n",
            " conv2d_1 (Conv2D)              (None, 109, 109, 64  73792       ['max_pooling2d[0][0]']          \n",
            "                                )                                                                 \n",
            "                                                                                                  \n",
            " max_pooling2d_1 (MaxPooling2D)  (None, 54, 54, 64)  0           ['conv2d_1[0][0]']               \n",
            "                                                                                                  \n",
            " conv2d_2 (Conv2D)              (None, 52, 52, 32)   18464       ['max_pooling2d_1[0][0]']        \n",
            "                                                                                                  \n",
            " dropout_1 (Dropout)            (None, 52, 52, 32)   0           ['conv2d_2[0][0]']               \n",
            "                                                                                                  \n",
            " flatten (Flatten)              (None, 86528)        0           ['dropout_1[0][0]']              \n",
            "                                                                                                  \n",
            " dense_1 (Dense)                (None, 2)            173058      ['flatten[0][0]']                \n",
            "                                                                                                  \n",
            " activation (Activation)        (None, 2)            0           ['dense_1[0][0]']                \n",
            "                                                                                                  \n",
            " lambda (Lambda)                (None, 2)            0           ['activation[0][0]']             \n",
            "                                                                                                  \n",
            " activation_1 (Activation)      (None, 2)            0           ['activation[0][0]']             \n",
            "                                                                                                  \n",
            " activation_2 (Activation)      (None, 2)            0           ['lambda[0][0]']                 \n",
            "                                                                                                  \n",
            " concatenate (Concatenate)      (None, 4)            0           ['activation_1[0][0]',           \n",
            "                                                                  'activation_2[0][0]']           \n",
            "                                                                                                  \n",
            "==================================================================================================\n",
            "Total params: 268,898\n",
            "Trainable params: 268,898\n",
            "Non-trainable params: 0\n",
            "__________________________________________________________________________________________________\n"
          ]
        }
      ]
    },
    {
      "cell_type": "code",
      "metadata": {
        "id": "brOe8JSp0gA_"
      },
      "source": [
        "# Declare knowledge distillation loss function\n",
        "# This will be a teacher trained student model. \n",
        "# This uses a knowledge distillation loss function\n",
        "# Declare knowledge distillation loss\n",
        "def knowledge_distillation_loss(y_true, y_pred, alpha):\n",
        "\n",
        "    # Extract the one-hot encoded values and the softs separately so that we can create two objective functions\n",
        "    y_true, y_true_softs = y_true[: , :nb_classes], y_true[: , nb_classes:]\n",
        "    \n",
        "    y_pred, y_pred_softs = y_pred[: , :nb_classes], y_pred[: , nb_classes:]\n",
        "    \n",
        "    loss = alpha*logloss(y_true,y_pred) + (1-alpha)*logloss(y_true_softs, y_pred_softs)\n",
        "    \n",
        "    return loss\n",
        "\n",
        "# For testing use regular output probabilities - without temperature\n",
        "def acc(y_true, y_pred):\n",
        "    y_true = y_true[:, :nb_classes]\n",
        "    y_pred = y_pred[:, :nb_classes]\n",
        "    return categorical_accuracy(y_true, y_pred)\n",
        "\n",
        "customstudent.compile(\n",
        "    #optimizer=optimizers.SGD(lr=1e-1, momentum=0.9, nesterov=True),\n",
        "    optimizer='adadelta',\n",
        "    loss=lambda y_true, y_pred: knowledge_distillation_loss(y_true, y_pred, 0.1),\n",
        "    #loss='categorical_crossentropy',\n",
        "    metrics=[acc] \n",
        "  )"
      ],
      "execution_count": 24,
      "outputs": []
    },
    {
      "cell_type": "code",
      "metadata": {
        "colab": {
          "base_uri": "https://localhost:8080/"
        },
        "id": "2XLkOCYK0lBz",
        "outputId": "0b66ac74-a852-4d24-f062-2382227224bc"
      },
      "source": [
        "# Train the student model\n",
        "epochs = 20\n",
        "batch_size = 32\n",
        "customstudent_student_his = customstudent.fit(x_train, Y_train_new,\n",
        "          batch_size=batch_size,\n",
        "          epochs=epochs,\n",
        "          verbose=1,\n",
        "          validation_data=(x_val, Y_test_new))"
      ],
      "execution_count": 25,
      "outputs": [
        {
          "output_type": "stream",
          "name": "stdout",
          "text": [
            "Epoch 1/20\n",
            "175/175 [==============================] - 27s 135ms/step - loss: 0.0775 - acc: 0.5261 - val_loss: 0.0700 - val_acc: 0.6007\n",
            "Epoch 2/20\n",
            "175/175 [==============================] - 21s 122ms/step - loss: 0.0745 - acc: 0.5588 - val_loss: 0.0622 - val_acc: 0.6779\n",
            "Epoch 3/20\n",
            "175/175 [==============================] - 21s 122ms/step - loss: 0.0714 - acc: 0.5892 - val_loss: 0.0625 - val_acc: 0.6779\n",
            "Epoch 4/20\n",
            "175/175 [==============================] - 21s 123ms/step - loss: 0.0687 - acc: 0.6170 - val_loss: 0.0567 - val_acc: 0.7364\n",
            "Epoch 5/20\n",
            "175/175 [==============================] - 22s 123ms/step - loss: 0.0658 - acc: 0.6465 - val_loss: 0.0563 - val_acc: 0.7400\n",
            "Epoch 6/20\n",
            "175/175 [==============================] - 21s 122ms/step - loss: 0.0639 - acc: 0.6653 - val_loss: 0.0544 - val_acc: 0.7679\n",
            "Epoch 7/20\n",
            "175/175 [==============================] - 21s 122ms/step - loss: 0.0621 - acc: 0.6851 - val_loss: 0.0535 - val_acc: 0.7750\n",
            "Epoch 8/20\n",
            "175/175 [==============================] - 21s 122ms/step - loss: 0.0607 - acc: 0.6996 - val_loss: 0.0527 - val_acc: 0.7836\n",
            "Epoch 9/20\n",
            "175/175 [==============================] - 21s 122ms/step - loss: 0.0598 - acc: 0.7091 - val_loss: 0.0535 - val_acc: 0.7707\n",
            "Epoch 10/20\n",
            "175/175 [==============================] - 22s 126ms/step - loss: 0.0581 - acc: 0.7259 - val_loss: 0.0511 - val_acc: 0.8014\n",
            "Epoch 11/20\n",
            "175/175 [==============================] - 21s 123ms/step - loss: 0.0578 - acc: 0.7305 - val_loss: 0.0504 - val_acc: 0.8093\n",
            "Epoch 12/20\n",
            "175/175 [==============================] - 21s 122ms/step - loss: 0.0562 - acc: 0.7461 - val_loss: 0.0500 - val_acc: 0.8114\n",
            "Epoch 13/20\n",
            "175/175 [==============================] - 21s 122ms/step - loss: 0.0557 - acc: 0.7505 - val_loss: 0.0492 - val_acc: 0.8221\n",
            "Epoch 14/20\n",
            "175/175 [==============================] - 22s 126ms/step - loss: 0.0545 - acc: 0.7634 - val_loss: 0.0484 - val_acc: 0.8293\n",
            "Epoch 15/20\n",
            "175/175 [==============================] - 21s 122ms/step - loss: 0.0541 - acc: 0.7659 - val_loss: 0.0478 - val_acc: 0.8343\n",
            "Epoch 16/20\n",
            "175/175 [==============================] - 21s 122ms/step - loss: 0.0534 - acc: 0.7763 - val_loss: 0.0470 - val_acc: 0.8414\n",
            "Epoch 17/20\n",
            "175/175 [==============================] - 21s 123ms/step - loss: 0.0529 - acc: 0.7793 - val_loss: 0.0468 - val_acc: 0.8443\n",
            "Epoch 18/20\n",
            "175/175 [==============================] - 21s 122ms/step - loss: 0.0517 - acc: 0.7904 - val_loss: 0.0467 - val_acc: 0.8457\n",
            "Epoch 19/20\n",
            "175/175 [==============================] - 21s 122ms/step - loss: 0.0513 - acc: 0.7957 - val_loss: 0.0458 - val_acc: 0.8579\n",
            "Epoch 20/20\n",
            "175/175 [==============================] - 21s 122ms/step - loss: 0.0501 - acc: 0.8072 - val_loss: 0.0449 - val_acc: 0.8643\n"
          ]
        }
      ]
    },
    {
      "cell_type": "code",
      "metadata": {
        "id": "eKFlkPr831Yi"
      },
      "source": [
        "#https://machinelearningmastery.com/display-deep-learning-model-training-history-in-keras/\n",
        "# summarize history for accuracy\n",
        "plt.style.use('seaborn')\n",
        "plt.plot(customstudent_student_his.history['acc'])\n",
        "plt.plot(customstudent_student_his.history['val_acc'])\n",
        "plt.title('model accuracy')\n",
        "plt.ylabel('accuracy')\n",
        "plt.xlabel('epoch')\n",
        "plt.legend(['train', 'val'], loc='lower right')\n",
        "plt.show()"
      ],
      "execution_count": null,
      "outputs": []
    },
    {
      "cell_type": "code",
      "metadata": {
        "id": "rhqcGEUm35Cf"
      },
      "source": [
        "#https://machinelearningmastery.com/display-deep-learning-model-training-history-in-keras/\n",
        "# summarize history for accuracy\n",
        "plt.plot(customstudent_student_his.history['loss'])\n",
        "plt.plot(customstudent_student_his.history['val_loss'])\n",
        "plt.title('model loss')\n",
        "plt.ylabel('accuracy')\n",
        "plt.xlabel('epoch')\n",
        "plt.legend(['train', 'val'], loc='upper right')\n",
        "plt.show()"
      ],
      "execution_count": null,
      "outputs": []
    },
    {
      "cell_type": "code",
      "metadata": {
        "colab": {
          "base_uri": "https://localhost:8080/"
        },
        "id": "Eflf3u3938Pl",
        "outputId": "d7cbe318-231d-463b-e4f6-df06523f668a"
      },
      "source": [
        "Y_val_pred_student = customstudent.predict(x_val)\n",
        "print(f'The CustomStudent model Accuracy on the Validation Set:',accuracy_score(np.argmax(y_val, axis=1), np.argmax(Y_val_pred_student, axis=1)))"
      ],
      "execution_count": 26,
      "outputs": [
        {
          "output_type": "stream",
          "name": "stdout",
          "text": [
            "The CustomStudent model Accuracy on the Validation Set: 0.8642857142857143\n"
          ]
        }
      ]
    },
    {
      "cell_type": "code",
      "metadata": {
        "colab": {
          "base_uri": "https://localhost:8080/"
        },
        "id": "Q4CmzFLB4Lew",
        "outputId": "3491189d-41ae-4f22-89ca-afb80a31b6cc"
      },
      "source": [
        "#Now let's check my Y_test values\n",
        "print(f'My Y_test values are:\\n' ,Y_test)"
      ],
      "execution_count": 27,
      "outputs": [
        {
          "output_type": "stream",
          "name": "stdout",
          "text": [
            "My Y_test values are:\n",
            " [[1. 0.]\n",
            " [0. 1.]\n",
            " [0. 1.]\n",
            " ...\n",
            " [1. 0.]\n",
            " [0. 1.]\n",
            " [1. 0.]]\n"
          ]
        }
      ]
    },
    {
      "cell_type": "code",
      "metadata": {
        "colab": {
          "base_uri": "https://localhost:8080/"
        },
        "id": "ZXiWzbBA4jgs",
        "outputId": "fac70ece-6d7b-4148-897b-60f2810ce16b"
      },
      "source": [
        "#Now let's check my predcited values from X_test dataset\t\n",
        "import timeit\n",
        "\n",
        "start = timeit.default_timer()\n",
        "#Your statements here\n",
        "y_pred_student = customstudent.predict(X_test)\n",
        "print(f'My predicted Y_test values are:\\n' ,y_pred_student)\n",
        "\n",
        "stop = timeit.default_timer()\n",
        "print('\\nTime: ',stop - start,'sec')"
      ],
      "execution_count": 28,
      "outputs": [
        {
          "output_type": "stream",
          "name": "stdout",
          "text": [
            "My predicted Y_test values are:\n",
            " [[0.73105854 0.26894143 0.5249792  0.4750208 ]\n",
            " [0.26894143 0.73105854 0.4750208  0.5249792 ]\n",
            " [0.26894143 0.73105854 0.4750208  0.5249792 ]\n",
            " ...\n",
            " [0.7297507  0.27024937 0.52481353 0.47518647]\n",
            " [0.6948579  0.3051421  0.52056164 0.47943833]\n",
            " [0.73105854 0.26894143 0.5249792  0.4750208 ]]\n",
            "\n",
            "Time:  5.75526694500013 sec\n"
          ]
        }
      ]
    },
    {
      "cell_type": "code",
      "metadata": {
        "colab": {
          "base_uri": "https://localhost:8080/"
        },
        "id": "dvQZH84Z4p9D",
        "outputId": "cb7f7813-9470-40b9-c7d4-9958273c875c"
      },
      "source": [
        "start = timeit.default_timer()\n",
        "#Your statements here\n",
        "\n",
        "#Now let's check the accuracy between the original & predicted (Y_test , y_pred)\n",
        "print(f'My accuracy on Custom Student model on the Test set is:',accuracy_score(np.argmax(Y_test, axis=1), np.argmax(y_pred_student, axis=1)))\n",
        "\n",
        "stop = timeit.default_timer()\n",
        "print('\\nTime: ',stop - start,'sec')"
      ],
      "execution_count": 29,
      "outputs": [
        {
          "output_type": "stream",
          "name": "stdout",
          "text": [
            "My accuracy on Custom Student model on the Test set is: 0.8973333333333333\n",
            "\n",
            "Time:  0.0019980439999471855 sec\n"
          ]
        }
      ]
    },
    {
      "cell_type": "code",
      "metadata": {
        "colab": {
          "base_uri": "https://localhost:8080/"
        },
        "id": "fZQKmsH7ydM3",
        "outputId": "da224146-7a9d-47bd-c199-2707db05d8c0"
      },
      "source": [
        "# Classification_report\n",
        "print(f'Classification Report of Resnet50:\\n',classification_report(np.argmax(Y_test, axis=1), np.argmax(y_pred_student, axis=1)))"
      ],
      "execution_count": 30,
      "outputs": [
        {
          "output_type": "stream",
          "name": "stdout",
          "text": [
            "Classification Report of Resnet50:\n",
            "               precision    recall  f1-score   support\n",
            "\n",
            "           0       0.86      0.95      0.90      1500\n",
            "           1       0.94      0.85      0.89      1500\n",
            "\n",
            "    accuracy                           0.90      3000\n",
            "   macro avg       0.90      0.90      0.90      3000\n",
            "weighted avg       0.90      0.90      0.90      3000\n",
            "\n"
          ]
        }
      ]
    },
    {
      "cell_type": "code",
      "metadata": {
        "colab": {
          "base_uri": "https://localhost:8080/",
          "height": 409
        },
        "id": "hKBaOwEJydE1",
        "outputId": "cf387667-4121-4069-bbd5-9120d37d5c43"
      },
      "source": [
        "# https://scikit-learn.org/stable/auto_examples/model_selection/plot_roc.html\n",
        "\n",
        "from sklearn.metrics import roc_curve, auc\n",
        "from numpy import interp\n",
        "from itertools import cycle\n",
        "\n",
        "num_of_classes = y_train.shape[1]\n",
        "print(f'Auc Curve on Validation:\\n')\n",
        "\n",
        "\n",
        "# Compute ROC curve and ROC area for each class\n",
        "fpr = dict()\n",
        "tpr = dict()\n",
        "roc_auc = dict()\n",
        "\n",
        "for i in range(num_of_classes):\n",
        "    fpr[i], tpr[i], _ = roc_curve(Y_test_new[:, i], Y_val_pred_student[:, i])\n",
        "    roc_auc[i] = auc(fpr[i], tpr[i])\n",
        "\n",
        "# Compute micro-average ROC curve and ROC area\n",
        "# fpr[\"micro\"], tpr[\"micro\"], _ = roc_curve(Y_test_new.ravel(), Y_val_pred_student.ravel())\n",
        "# roc_auc[\"micro\"] = auc(fpr[\"micro\"], tpr[\"micro\"])\n",
        "\n",
        "\n",
        "lw = 3\n",
        "# Plot all ROC curves\n",
        "\n",
        "colors = cycle(['blue', 'orange', 'cornflowerblue'])\n",
        "for i, color in zip(range(num_of_classes), colors):\n",
        "    plt.plot(fpr[i],tpr[i], color=color, lw=lw,\n",
        "             label='ROC curve of class {0} (area = {1:0.2f})'\n",
        "             ''.format(i, roc_auc[i]))\n",
        "    \n",
        "plt.style.use('ggplot')\n",
        "plt.plot([0, 1], [0, 1], 'k--', lw=lw)\n",
        "plt.xlim([0.0, 1.0])\n",
        "plt.ylim([0.0, 1.05])\n",
        "plt.xlabel('False Positive Rate')\n",
        "plt.ylabel('True Positive Rate')\n",
        "plt.title('Some extension of Receiver operating characteristic to multi-class')\n",
        "plt.legend(loc=\"lower right\")\n",
        "plt.show()"
      ],
      "execution_count": null,
      "outputs": [
        {
          "output_type": "stream",
          "text": [
            "Auc Curve on Validation:\n",
            "\n"
          ],
          "name": "stdout"
        },
        {
          "output_type": "display_data",
          "data": {
            "image/png": "[encoded data removed]",
            "text/plain": [
              "<Figure size 576x396 with 1 Axes>"
            ]
          },
          "metadata": {
            "tags": []
          }
        }
      ]
    },
    {
      "cell_type": "code",
      "metadata": {
        "colab": {
          "base_uri": "https://localhost:8080/",
          "height": 411
        },
        "id": "kjoxO7sSyrJN",
        "outputId": "249609eb-3198-44d4-a25d-9708feb3c122"
      },
      "source": [
        "# https://scikit-learn.org/stable/auto_examples/model_selection/plot_roc.html\n",
        "\n",
        "from sklearn.metrics import roc_curve, auc\n",
        "from numpy import interp\n",
        "from itertools import cycle\n",
        "\n",
        "num_of_classes = y_train.shape[1]\n",
        "print(f'Auc Curve on Test set:\\n')\n",
        "\n",
        "\n",
        "# Compute ROC curve and ROC area for each class\n",
        "fpr = dict()\n",
        "tpr = dict()\n",
        "roc_auc = dict()\n",
        "\n",
        "for i in range(num_of_classes):\n",
        "    fpr[i], tpr[i], _ = roc_curve(Y_test[:, i], y_pred_student[:, i])\n",
        "    roc_auc[i] = auc(fpr[i], tpr[i])\n",
        "\n",
        "# Compute micro-average ROC curve and ROC area\n",
        "# fpr[\"micro\"], tpr[\"micro\"], _ = roc_curve(Y_test.ravel(), y_pred_student.ravel())\n",
        "# roc_auc[\"micro\"] = auc(fpr[\"micro\"], tpr[\"micro\"])\n",
        "\n",
        "\n",
        "lw = 3\n",
        "# Plot all ROC curves\n",
        "\n",
        "colors = cycle(['blue', 'orange', 'cornflowerblue'])\n",
        "for i, color in zip(range(num_of_classes), colors):\n",
        "    plt.plot(fpr[i],tpr[i], color=color, lw=lw,\n",
        "             label='ROC curve of class {0} (area = {1:0.2f})'\n",
        "             ''.format(i, roc_auc[i]))\n",
        "    \n",
        "plt.style.use('ggplot')\n",
        "plt.plot([0, 1], [0, 1], 'k--', lw=lw)\n",
        "plt.xlim([0.0, 1.0])\n",
        "plt.ylim([0.0, 1.05])\n",
        "\n",
        "plt.xlabel('False Positive Rate')\n",
        "plt.ylabel('True Positive Rate')\n",
        "plt.title('Some extension of Receiver operating characteristic to multi-class')\n",
        "plt.legend(loc=\"lower right\")\n",
        "plt.show()"
      ],
      "execution_count": null,
      "outputs": [
        {
          "output_type": "stream",
          "text": [
            "Auc Curve on Test set:\n",
            "\n"
          ],
          "name": "stdout"
        },
        {
          "output_type": "display_data",
          "data": {
            "image/png": "[encoded data removed]",
            "text/plain": [
              "<Figure size 576x396 with 1 Axes>"
            ]
          },
          "metadata": {
            "tags": []
          }
        }
      ]
    },
    {
      "cell_type": "markdown",
      "metadata": {
        "id": "vHcgXahESLKc"
      },
      "source": [
        "-----"
      ]
    }
  ]
}